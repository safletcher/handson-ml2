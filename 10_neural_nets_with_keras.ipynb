{
  "nbformat": 4,
  "nbformat_minor": 0,
  "metadata": {
    "kernelspec": {
      "display_name": "Python 3",
      "language": "python",
      "name": "python3"
    },
    "language_info": {
      "codemirror_mode": {
        "name": "ipython",
        "version": 3
      },
      "file_extension": ".py",
      "mimetype": "text/x-python",
      "name": "python",
      "nbconvert_exporter": "python",
      "pygments_lexer": "ipython3",
      "version": "3.6.8"
    },
    "nav_menu": {
      "height": "264px",
      "width": "369px"
    },
    "toc": {
      "navigate_menu": true,
      "number_sections": true,
      "sideBar": true,
      "threshold": 6,
      "toc_cell": false,
      "toc_section_display": "block",
      "toc_window_display": false
    },
    "colab": {
      "name": "10_neural_nets_with_keras.ipynb",
      "version": "0.3.2",
      "provenance": [],
      "include_colab_link": true
    }
  },
  "cells": [
    {
      "cell_type": "markdown",
      "metadata": {
        "id": "view-in-github",
        "colab_type": "text"
      },
      "source": [
        "<a href=\"https://colab.research.google.com/github/safletcher/handson-ml2/blob/develop/10_neural_nets_with_keras.ipynb\" target=\"_parent\"><img src=\"https://colab.research.google.com/assets/colab-badge.svg\" alt=\"Open In Colab\"/></a>"
      ]
    },
    {
      "cell_type": "markdown",
      "metadata": {
        "id": "QLXdBn4iU_SP",
        "colab_type": "text"
      },
      "source": [
        "**Chapter 10 – Introduction to Artificial Neural Networks with Keras**\n",
        "\n",
        "_This notebook contains all the sample code and solutions to the exercises in chapter 10._"
      ]
    },
    {
      "cell_type": "markdown",
      "metadata": {
        "id": "GaVg6RfHU_SR",
        "colab_type": "text"
      },
      "source": [
        "# Setup"
      ]
    },
    {
      "cell_type": "markdown",
      "metadata": {
        "id": "a17jXcRQU_SS",
        "colab_type": "text"
      },
      "source": [
        "First, let's import a few common modules, ensure MatplotLib plots figures inline and prepare a function to save the figures. We also check that Python 3.5 or later is installed (although Python 2.x may work, it is deprecated so we strongly recommend you use Python 3 instead), as well as Scikit-Learn ≥0.20 and TensorFlow ≥2.0-preview."
      ]
    },
    {
      "cell_type": "code",
      "metadata": {
        "id": "cm7CRX0-VQJO",
        "colab_type": "code",
        "colab": {
          "base_uri": "https://localhost:8080/",
          "height": 51
        },
        "outputId": "4b2756d7-5ec4-47cd-d6b6-8329f78e957b"
      },
      "source": [
        "!pip install -q tensorflow==2.0.0-beta1\n",
        "\n",
        "from __future__ import absolute_import, division, print_function, unicode_literals\n",
        "\n",
        "import tensorflow as tf\n",
        "\n",
        "print(tf.__version__)"
      ],
      "execution_count": 2,
      "outputs": [
        {
          "output_type": "stream",
          "text": [
            "\u001b[K     |████████████████████████████████| 87.9MB 1.3MB/s \n",
            "\u001b[?25h2.0.0-beta1\n"
          ],
          "name": "stdout"
        }
      ]
    },
    {
      "cell_type": "code",
      "metadata": {
        "id": "B2XkRVE_U_ST",
        "colab_type": "code",
        "colab": {}
      },
      "source": [
        "# Python ≥3.5 is required\n",
        "import sys\n",
        "assert sys.version_info >= (3, 5)\n",
        "\n",
        "# Scikit-Learn ≥0.20 is required\n",
        "import sklearn\n",
        "assert sklearn.__version__ >= \"0.20\"\n",
        "\n",
        "# TensorFlow ≥2.0-preview is required\n",
        "import tensorflow as tf\n",
        "assert tf.__version__ >= \"2.0\"\n",
        "\n",
        "# Common imports\n",
        "import numpy as np\n",
        "import os\n",
        "\n",
        "# to make this notebook's output stable across runs\n",
        "np.random.seed(42)\n",
        "\n",
        "# To plot pretty figures\n",
        "%matplotlib inline\n",
        "import matplotlib as mpl\n",
        "import matplotlib.pyplot as plt\n",
        "mpl.rc('axes', labelsize=14)\n",
        "mpl.rc('xtick', labelsize=12)\n",
        "mpl.rc('ytick', labelsize=12)\n",
        "\n",
        "# Where to save the figures\n",
        "PROJECT_ROOT_DIR = \".\"\n",
        "CHAPTER_ID = \"ann\"\n",
        "IMAGES_PATH = os.path.join(PROJECT_ROOT_DIR, \"images\", CHAPTER_ID)\n",
        "os.makedirs(IMAGES_PATH, exist_ok=True)\n",
        "\n",
        "def save_fig(fig_id, tight_layout=True, fig_extension=\"png\", resolution=300):\n",
        "    path = os.path.join(IMAGES_PATH, fig_id + \".\" + fig_extension)\n",
        "    print(\"Saving figure\", fig_id)\n",
        "    if tight_layout:\n",
        "        plt.tight_layout()\n",
        "    plt.savefig(path, format=fig_extension, dpi=resolution)\n",
        "\n",
        "# Ignore useless warnings (see SciPy issue #5998)\n",
        "import warnings\n",
        "warnings.filterwarnings(action=\"ignore\", message=\"^internal gelsd\")"
      ],
      "execution_count": 0,
      "outputs": []
    },
    {
      "cell_type": "markdown",
      "metadata": {
        "id": "fn9Cr8jmU_SW",
        "colab_type": "text"
      },
      "source": [
        "# Perceptrons"
      ]
    },
    {
      "cell_type": "markdown",
      "metadata": {
        "id": "6ysQu-4XU_SX",
        "colab_type": "text"
      },
      "source": [
        "**Note**: we set `max_iter` and `tol` explicitly to avoid warnings about the fact that their default value will change in future versions of Scikit-Learn."
      ]
    },
    {
      "cell_type": "code",
      "metadata": {
        "id": "yx_H-sl0U_SY",
        "colab_type": "code",
        "colab": {}
      },
      "source": [
        "import numpy as np\n",
        "from sklearn.datasets import load_iris\n",
        "from sklearn.linear_model import Perceptron\n",
        "\n",
        "iris = load_iris()\n",
        "X = iris.data[:, (2, 3)]  # petal length, petal width\n",
        "y = (iris.target == 0).astype(np.int)\n",
        "\n",
        "per_clf = Perceptron(max_iter=1000, tol=1e-3, random_state=42)\n",
        "per_clf.fit(X, y)\n",
        "\n",
        "y_pred = per_clf.predict([[2, 0.5]])"
      ],
      "execution_count": 0,
      "outputs": []
    },
    {
      "cell_type": "code",
      "metadata": {
        "id": "03IJqfw4U_Sa",
        "colab_type": "code",
        "colab": {
          "base_uri": "https://localhost:8080/",
          "height": 34
        },
        "outputId": "ef24ef40-6ab8-4c14-afc3-da53bced2063"
      },
      "source": [
        "y_pred"
      ],
      "execution_count": 7,
      "outputs": [
        {
          "output_type": "execute_result",
          "data": {
            "text/plain": [
              "array([1])"
            ]
          },
          "metadata": {
            "tags": []
          },
          "execution_count": 7
        }
      ]
    },
    {
      "cell_type": "code",
      "metadata": {
        "id": "kqSarvkcU_Se",
        "colab_type": "code",
        "colab": {
          "base_uri": "https://localhost:8080/",
          "height": 314
        },
        "outputId": "30a86359-b916-4666-bb8a-9fb6423e3e78"
      },
      "source": [
        "a = -per_clf.coef_[0][0] / per_clf.coef_[0][1]\n",
        "b = -per_clf.intercept_ / per_clf.coef_[0][1]\n",
        "\n",
        "axes = [0, 5, 0, 2]\n",
        "\n",
        "x0, x1 = np.meshgrid(\n",
        "        np.linspace(axes[0], axes[1], 500).reshape(-1, 1),\n",
        "        np.linspace(axes[2], axes[3], 200).reshape(-1, 1),\n",
        "    )\n",
        "X_new = np.c_[x0.ravel(), x1.ravel()]\n",
        "y_predict = per_clf.predict(X_new)\n",
        "zz = y_predict.reshape(x0.shape)\n",
        "\n",
        "plt.figure(figsize=(10, 4))\n",
        "plt.plot(X[y==0, 0], X[y==0, 1], \"bs\", label=\"Not Iris-Setosa\")\n",
        "plt.plot(X[y==1, 0], X[y==1, 1], \"yo\", label=\"Iris-Setosa\")\n",
        "\n",
        "plt.plot([axes[0], axes[1]], [a * axes[0] + b, a * axes[1] + b], \"k-\", linewidth=3)\n",
        "from matplotlib.colors import ListedColormap\n",
        "custom_cmap = ListedColormap(['#9898ff', '#fafab0'])\n",
        "\n",
        "plt.contourf(x0, x1, zz, cmap=custom_cmap)\n",
        "plt.xlabel(\"Petal length\", fontsize=14)\n",
        "plt.ylabel(\"Petal width\", fontsize=14)\n",
        "plt.legend(loc=\"lower right\", fontsize=14)\n",
        "plt.axis(axes)\n",
        "\n",
        "save_fig(\"perceptron_iris_plot\")\n",
        "plt.show()"
      ],
      "execution_count": 8,
      "outputs": [
        {
          "output_type": "stream",
          "text": [
            "Saving figure perceptron_iris_plot\n"
          ],
          "name": "stdout"
        },
        {
          "output_type": "display_data",
          "data": {
            "image/png": "[encoded data removed]",
            "text/plain": [
              "<Figure size 720x288 with 1 Axes>"
            ]
          },
          "metadata": {
            "tags": []
          }
        }
      ]
    },
    {
      "cell_type": "markdown",
      "metadata": {
        "id": "HxDs_6MGU_Sg",
        "colab_type": "text"
      },
      "source": [
        "# Activation functions"
      ]
    },
    {
      "cell_type": "code",
      "metadata": {
        "id": "pjNaU8mxU_Sh",
        "colab_type": "code",
        "colab": {}
      },
      "source": [
        "def sigmoid(z):\n",
        "    return 1 / (1 + np.exp(-z))\n",
        "\n",
        "def relu(z):\n",
        "    return np.maximum(0, z)\n",
        "\n",
        "def derivative(f, z, eps=0.000001):\n",
        "    return (f(z + eps) - f(z - eps))/(2 * eps)"
      ],
      "execution_count": 0,
      "outputs": []
    },
    {
      "cell_type": "code",
      "metadata": {
        "id": "MFkZkp_nU_Sj",
        "colab_type": "code",
        "colab": {
          "base_uri": "https://localhost:8080/",
          "height": 314
        },
        "outputId": "86405ef9-bcff-4474-af42-3dcaf8347062"
      },
      "source": [
        "z = np.linspace(-5, 5, 200)\n",
        "\n",
        "plt.figure(figsize=(11,4))\n",
        "\n",
        "plt.subplot(121)\n",
        "plt.plot(z, np.sign(z), \"r-\", linewidth=1, label=\"Step\")\n",
        "plt.plot(z, sigmoid(z), \"g--\", linewidth=2, label=\"Sigmoid\")\n",
        "plt.plot(z, np.tanh(z), \"b-\", linewidth=2, label=\"Tanh\")\n",
        "plt.plot(z, relu(z), \"m-.\", linewidth=2, label=\"ReLU\")\n",
        "plt.grid(True)\n",
        "plt.legend(loc=\"center right\", fontsize=14)\n",
        "plt.title(\"Activation functions\", fontsize=14)\n",
        "plt.axis([-5, 5, -1.2, 1.2])\n",
        "\n",
        "plt.subplot(122)\n",
        "plt.plot(z, derivative(np.sign, z), \"r-\", linewidth=1, label=\"Step\")\n",
        "plt.plot(0, 0, \"ro\", markersize=5)\n",
        "plt.plot(0, 0, \"rx\", markersize=10)\n",
        "plt.plot(z, derivative(sigmoid, z), \"g--\", linewidth=2, label=\"Sigmoid\")\n",
        "plt.plot(z, derivative(np.tanh, z), \"b-\", linewidth=2, label=\"Tanh\")\n",
        "plt.plot(z, derivative(relu, z), \"m-.\", linewidth=2, label=\"ReLU\")\n",
        "plt.grid(True)\n",
        "#plt.legend(loc=\"center right\", fontsize=14)\n",
        "plt.title(\"Derivatives\", fontsize=14)\n",
        "plt.axis([-5, 5, -0.2, 1.2])\n",
        "\n",
        "save_fig(\"activation_functions_plot\")\n",
        "plt.show()"
      ],
      "execution_count": 10,
      "outputs": [
        {
          "output_type": "stream",
          "text": [
            "Saving figure activation_functions_plot\n"
          ],
          "name": "stdout"
        },
        {
          "output_type": "display_data",
          "data": {
            "image/png": "[encoded data removed]",
            "text/plain": [
              "<Figure size 792x288 with 2 Axes>"
            ]
          },
          "metadata": {
            "tags": []
          }
        }
      ]
    },
    {
      "cell_type": "code",
      "metadata": {
        "id": "rpHljACXU_Sm",
        "colab_type": "code",
        "colab": {}
      },
      "source": [
        "def heaviside(z):\n",
        "    return (z >= 0).astype(z.dtype)\n",
        "\n",
        "def mlp_xor(x1, x2, activation=heaviside):\n",
        "    return activation(-activation(x1 + x2 - 1.5) + activation(x1 + x2 - 0.5) - 0.5)"
      ],
      "execution_count": 0,
      "outputs": []
    },
    {
      "cell_type": "code",
      "metadata": {
        "scrolled": true,
        "id": "ZgTikUL3U_Sp",
        "colab_type": "code",
        "colab": {},
        "outputId": "89fa86c3-0689-4360-812e-3ca080eb9c2d"
      },
      "source": [
        "x1s = np.linspace(-0.2, 1.2, 100)\n",
        "x2s = np.linspace(-0.2, 1.2, 100)\n",
        "x1, x2 = np.meshgrid(x1s, x2s)\n",
        "\n",
        "z1 = mlp_xor(x1, x2, activation=heaviside)\n",
        "z2 = mlp_xor(x1, x2, activation=sigmoid)\n",
        "\n",
        "plt.figure(figsize=(10,4))\n",
        "\n",
        "plt.subplot(121)\n",
        "plt.contourf(x1, x2, z1)\n",
        "plt.plot([0, 1], [0, 1], \"gs\", markersize=20)\n",
        "plt.plot([0, 1], [1, 0], \"y^\", markersize=20)\n",
        "plt.title(\"Activation function: heaviside\", fontsize=14)\n",
        "plt.grid(True)\n",
        "\n",
        "plt.subplot(122)\n",
        "plt.contourf(x1, x2, z2)\n",
        "plt.plot([0, 1], [0, 1], \"gs\", markersize=20)\n",
        "plt.plot([0, 1], [1, 0], \"y^\", markersize=20)\n",
        "plt.title(\"Activation function: sigmoid\", fontsize=14)\n",
        "plt.grid(True)"
      ],
      "execution_count": 0,
      "outputs": [
        {
          "output_type": "display_data",
          "data": {
            "image/png": "[encoded data removed]",
            "text/plain": [
              "<Figure size 720x288 with 2 Axes>"
            ]
          },
          "metadata": {
            "tags": [],
            "needs_background": "light"
          }
        }
      ]
    },
    {
      "cell_type": "markdown",
      "metadata": {
        "id": "Mwv4ATt4U_Sr",
        "colab_type": "text"
      },
      "source": [
        "# Building an Image Classifier"
      ]
    },
    {
      "cell_type": "markdown",
      "metadata": {
        "id": "Lx9WyTPkU_Ss",
        "colab_type": "text"
      },
      "source": [
        "First let's import TensorFlow and Keras."
      ]
    },
    {
      "cell_type": "code",
      "metadata": {
        "id": "GXdpCFmTU_St",
        "colab_type": "code",
        "colab": {}
      },
      "source": [
        "import tensorflow as tf\n",
        "from tensorflow import keras"
      ],
      "execution_count": 0,
      "outputs": []
    },
    {
      "cell_type": "code",
      "metadata": {
        "id": "y1UC2zSeU_Sv",
        "colab_type": "code",
        "colab": {},
        "outputId": "4ec5c947-533b-4761-8751-855b4b624da1"
      },
      "source": [
        "tf.__version__"
      ],
      "execution_count": 0,
      "outputs": [
        {
          "output_type": "execute_result",
          "data": {
            "text/plain": [
              "'2.0.0-dev20190606'"
            ]
          },
          "metadata": {
            "tags": []
          },
          "execution_count": 10
        }
      ]
    },
    {
      "cell_type": "code",
      "metadata": {
        "id": "a4p-J8FhU_Sx",
        "colab_type": "code",
        "colab": {},
        "outputId": "f245d5c5-7007-490c-b6ff-29a96a29fdfb"
      },
      "source": [
        "keras.__version__"
      ],
      "execution_count": 0,
      "outputs": [
        {
          "output_type": "execute_result",
          "data": {
            "text/plain": [
              "'2.2.4-tf'"
            ]
          },
          "metadata": {
            "tags": []
          },
          "execution_count": 11
        }
      ]
    },
    {
      "cell_type": "markdown",
      "metadata": {
        "id": "AoEwokVjU_S0",
        "colab_type": "text"
      },
      "source": [
        "Let's start by loading the fashion MNIST dataset. Keras has a number of functions to load popular datasets in `keras.datasets`. The dataset is already split for you between a training set and a test set, but it can be useful to split the training set further to have a validation set:"
      ]
    },
    {
      "cell_type": "code",
      "metadata": {
        "id": "iJAZXeTTU_S1",
        "colab_type": "code",
        "colab": {}
      },
      "source": [
        "fashion_mnist = keras.datasets.fashion_mnist\n",
        "(X_train_full, y_train_full), (X_test, y_test) = fashion_mnist.load_data()"
      ],
      "execution_count": 0,
      "outputs": []
    },
    {
      "cell_type": "markdown",
      "metadata": {
        "id": "MkY2XVVaU_S6",
        "colab_type": "text"
      },
      "source": [
        "The training set contains 60,000 grayscale images, each 28x28 pixels:"
      ]
    },
    {
      "cell_type": "code",
      "metadata": {
        "id": "bj6zJraGU_S7",
        "colab_type": "code",
        "colab": {},
        "outputId": "3b220917-52d8-472e-a527-6d83943d179d"
      },
      "source": [
        "X_train_full.shape"
      ],
      "execution_count": 0,
      "outputs": [
        {
          "output_type": "execute_result",
          "data": {
            "text/plain": [
              "(60000, 28, 28)"
            ]
          },
          "metadata": {
            "tags": []
          },
          "execution_count": 13
        }
      ]
    },
    {
      "cell_type": "markdown",
      "metadata": {
        "id": "gaJUxr2IU_S-",
        "colab_type": "text"
      },
      "source": [
        "Each pixel intensity is represented as a byte (0 to 255):"
      ]
    },
    {
      "cell_type": "code",
      "metadata": {
        "id": "ToVN9gdqU_S-",
        "colab_type": "code",
        "colab": {},
        "outputId": "292c8436-063a-4f01-bd92-5295e2d69863"
      },
      "source": [
        "X_train_full.dtype"
      ],
      "execution_count": 0,
      "outputs": [
        {
          "output_type": "execute_result",
          "data": {
            "text/plain": [
              "dtype('uint8')"
            ]
          },
          "metadata": {
            "tags": []
          },
          "execution_count": 14
        }
      ]
    },
    {
      "cell_type": "markdown",
      "metadata": {
        "id": "ARxDO0uZU_TB",
        "colab_type": "text"
      },
      "source": [
        "Let's split the full training set into a validation set and a (smaller) training set. We also scale the pixel intensities down to the 0-1 range and convert them to floats, by dividing by 255."
      ]
    },
    {
      "cell_type": "code",
      "metadata": {
        "id": "O-0NCt5jU_TB",
        "colab_type": "code",
        "colab": {}
      },
      "source": [
        "X_valid, X_train = X_train_full[:5000] / 255., X_train_full[5000:] / 255.\n",
        "y_valid, y_train = y_train_full[:5000], y_train_full[5000:]\n",
        "X_test = X_test / 255."
      ],
      "execution_count": 0,
      "outputs": []
    },
    {
      "cell_type": "markdown",
      "metadata": {
        "id": "JTiL_8clU_TE",
        "colab_type": "text"
      },
      "source": [
        "You can plot an image using Matplotlib's `imshow()` function, with a `'binary'`\n",
        " color map:"
      ]
    },
    {
      "cell_type": "code",
      "metadata": {
        "id": "TbSGWcBTU_TE",
        "colab_type": "code",
        "colab": {},
        "outputId": "0a3b2e23-806a-41b7-82d1-f557e51e57d0"
      },
      "source": [
        "plt.imshow(X_train[0], cmap=\"binary\")\n",
        "plt.axis('off')\n",
        "plt.show()"
      ],
      "execution_count": 0,
      "outputs": [
        {
          "output_type": "display_data",
          "data": {
            "image/png": "[encoded data removed]",
            "text/plain": [
              "<Figure size 432x288 with 1 Axes>"
            ]
          },
          "metadata": {
            "tags": [],
            "needs_background": "light"
          }
        }
      ]
    },
    {
      "cell_type": "markdown",
      "metadata": {
        "id": "2jHEcX_qU_TM",
        "colab_type": "text"
      },
      "source": [
        "The labels are the class IDs (represented as uint8), from 0 to 9:"
      ]
    },
    {
      "cell_type": "code",
      "metadata": {
        "id": "AGOdQc9fU_TO",
        "colab_type": "code",
        "colab": {},
        "outputId": "0220545c-b178-4008-d2a6-4b5208508c0c"
      },
      "source": [
        "y_train"
      ],
      "execution_count": 0,
      "outputs": [
        {
          "output_type": "execute_result",
          "data": {
            "text/plain": [
              "array([4, 0, 7, ..., 3, 0, 5], dtype=uint8)"
            ]
          },
          "metadata": {
            "tags": []
          },
          "execution_count": 17
        }
      ]
    },
    {
      "cell_type": "markdown",
      "metadata": {
        "id": "FD7FS7ajU_TS",
        "colab_type": "text"
      },
      "source": [
        "Here are the corresponding class names:"
      ]
    },
    {
      "cell_type": "code",
      "metadata": {
        "id": "iTY4emmJU_TT",
        "colab_type": "code",
        "colab": {}
      },
      "source": [
        "class_names = [\"T-shirt/top\", \"Trouser\", \"Pullover\", \"Dress\", \"Coat\",\n",
        "               \"Sandal\", \"Shirt\", \"Sneaker\", \"Bag\", \"Ankle boot\"]"
      ],
      "execution_count": 0,
      "outputs": []
    },
    {
      "cell_type": "markdown",
      "metadata": {
        "id": "qsVxJ6GJU_TV",
        "colab_type": "text"
      },
      "source": [
        "So the first image in the training set is a coat:"
      ]
    },
    {
      "cell_type": "code",
      "metadata": {
        "id": "1lRF1cUJU_TW",
        "colab_type": "code",
        "colab": {},
        "outputId": "67b2e792-4f3c-48b4-8eb6-45f8ec6cbdd6"
      },
      "source": [
        "class_names[y_train[0]]"
      ],
      "execution_count": 0,
      "outputs": [
        {
          "output_type": "execute_result",
          "data": {
            "text/plain": [
              "'Coat'"
            ]
          },
          "metadata": {
            "tags": []
          },
          "execution_count": 19
        }
      ]
    },
    {
      "cell_type": "markdown",
      "metadata": {
        "id": "V2lhWFL2U_TY",
        "colab_type": "text"
      },
      "source": [
        "The validation set contains 5,000 images, and the test set contains 10,000 images:"
      ]
    },
    {
      "cell_type": "code",
      "metadata": {
        "id": "YoqO3dDnU_TZ",
        "colab_type": "code",
        "colab": {},
        "outputId": "1f6fc950-1645-40f4-f35c-09d12bbb6100"
      },
      "source": [
        "X_valid.shape"
      ],
      "execution_count": 0,
      "outputs": [
        {
          "output_type": "execute_result",
          "data": {
            "text/plain": [
              "(5000, 28, 28)"
            ]
          },
          "metadata": {
            "tags": []
          },
          "execution_count": 20
        }
      ]
    },
    {
      "cell_type": "code",
      "metadata": {
        "id": "_RPDFJ_-U_Tf",
        "colab_type": "code",
        "colab": {},
        "outputId": "be90eecd-0c62-41bc-cae4-5acdf0e7a093"
      },
      "source": [
        "X_test.shape"
      ],
      "execution_count": 0,
      "outputs": [
        {
          "output_type": "execute_result",
          "data": {
            "text/plain": [
              "(10000, 28, 28)"
            ]
          },
          "metadata": {
            "tags": []
          },
          "execution_count": 21
        }
      ]
    },
    {
      "cell_type": "markdown",
      "metadata": {
        "id": "tC4CYv8bU_Th",
        "colab_type": "text"
      },
      "source": [
        "Let's take a look at a sample of the images in the dataset:"
      ]
    },
    {
      "cell_type": "code",
      "metadata": {
        "id": "RnvN6zTSU_Ti",
        "colab_type": "code",
        "colab": {},
        "outputId": "16be52d3-2f83-4a2c-9362-76f367c4392d"
      },
      "source": [
        "n_rows = 4\n",
        "n_cols = 10\n",
        "plt.figure(figsize=(n_cols * 1.2, n_rows * 1.2))\n",
        "for row in range(n_rows):\n",
        "    for col in range(n_cols):\n",
        "        index = n_cols * row + col\n",
        "        plt.subplot(n_rows, n_cols, index + 1)\n",
        "        plt.imshow(X_train[index], cmap=\"binary\", interpolation=\"nearest\")\n",
        "        plt.axis('off')\n",
        "        plt.title(class_names[y_train[index]], fontsize=12)\n",
        "plt.subplots_adjust(wspace=0.2, hspace=0.5)\n",
        "save_fig('fashion_mnist_plot', tight_layout=False)\n",
        "plt.show()"
      ],
      "execution_count": 0,
      "outputs": [
        {
          "output_type": "stream",
          "text": [
            "Saving figure fashion_mnist_plot\n"
          ],
          "name": "stdout"
        },
        {
          "output_type": "display_data",
          "data": {
            "image/png": "[encoded data removed]",
            "text/plain": [
              "<Figure size 864x345.6 with 40 Axes>"
            ]
          },
          "metadata": {
            "tags": [],
            "needs_background": "light"
          }
        }
      ]
    },
    {
      "cell_type": "code",
      "metadata": {
        "id": "DnVn6-NiU_Tl",
        "colab_type": "code",
        "colab": {}
      },
      "source": [
        "model = keras.models.Sequential()\n",
        "model.add(keras.layers.Flatten(input_shape=[28, 28]))\n",
        "model.add(keras.layers.Dense(300, activation=\"relu\"))\n",
        "model.add(keras.layers.Dense(100, activation=\"relu\"))\n",
        "model.add(keras.layers.Dense(10, activation=\"softmax\"))"
      ],
      "execution_count": 0,
      "outputs": []
    },
    {
      "cell_type": "code",
      "metadata": {
        "id": "gXwAz9BmU_Tn",
        "colab_type": "code",
        "colab": {}
      },
      "source": [
        "keras.backend.clear_session()\n",
        "np.random.seed(42)\n",
        "tf.random.set_seed(42)"
      ],
      "execution_count": 0,
      "outputs": []
    },
    {
      "cell_type": "code",
      "metadata": {
        "id": "MZiZX_8GU_Tp",
        "colab_type": "code",
        "colab": {}
      },
      "source": [
        "model = keras.models.Sequential([\n",
        "    keras.layers.Flatten(input_shape=[28, 28]),\n",
        "    keras.layers.Dense(300, activation=\"relu\"),\n",
        "    keras.layers.Dense(100, activation=\"relu\"),\n",
        "    keras.layers.Dense(10, activation=\"softmax\")\n",
        "])"
      ],
      "execution_count": 0,
      "outputs": []
    },
    {
      "cell_type": "code",
      "metadata": {
        "id": "cRFfbQ2vU_Ts",
        "colab_type": "code",
        "colab": {},
        "outputId": "61af8fdb-daae-41fd-de2e-1f0d6b17045f"
      },
      "source": [
        "model.layers"
      ],
      "execution_count": 0,
      "outputs": [
        {
          "output_type": "execute_result",
          "data": {
            "text/plain": [
              "[<tensorflow.python.keras.layers.core.Flatten at 0x12c15d588>,\n",
              " <tensorflow.python.keras.layers.core.Dense at 0x149938fd0>,\n",
              " <tensorflow.python.keras.layers.core.Dense at 0x149b198d0>,\n",
              " <tensorflow.python.keras.layers.core.Dense at 0x149b19be0>]"
            ]
          },
          "metadata": {
            "tags": []
          },
          "execution_count": 26
        }
      ]
    },
    {
      "cell_type": "code",
      "metadata": {
        "id": "gxw1ejdrU_Tu",
        "colab_type": "code",
        "colab": {},
        "outputId": "b96f5a37-d4c1-4c7a-c3de-9ad5f26ece5a"
      },
      "source": [
        "model.summary()"
      ],
      "execution_count": 0,
      "outputs": [
        {
          "output_type": "stream",
          "text": [
            "Model: \"sequential\"\n",
            "_________________________________________________________________\n",
            "Layer (type)                 Output Shape              Param #   \n",
            "=================================================================\n",
            "flatten (Flatten)            (None, 784)               0         \n",
            "_________________________________________________________________\n",
            "dense (Dense)                (None, 300)               235500    \n",
            "_________________________________________________________________\n",
            "dense_1 (Dense)              (None, 100)               30100     \n",
            "_________________________________________________________________\n",
            "dense_2 (Dense)              (None, 10)                1010      \n",
            "=================================================================\n",
            "Total params: 266,610\n",
            "Trainable params: 266,610\n",
            "Non-trainable params: 0\n",
            "_________________________________________________________________\n"
          ],
          "name": "stdout"
        }
      ]
    },
    {
      "cell_type": "code",
      "metadata": {
        "id": "YQ68B6LsU_Tw",
        "colab_type": "code",
        "colab": {},
        "outputId": "ac612794-27b5-46a5-8384-cf2cdebeb63c"
      },
      "source": [
        "keras.utils.plot_model(model, \"my_mnist_model.png\", show_shapes=True)"
      ],
      "execution_count": 0,
      "outputs": [
        {
          "output_type": "execute_result",
          "data": {
            "image/png": "[encoded data removed]",
            "text/plain": [
              "<IPython.core.display.Image object>"
            ]
          },
          "metadata": {
            "tags": []
          },
          "execution_count": 28
        }
      ]
    },
    {
      "cell_type": "code",
      "metadata": {
        "id": "UcUNLy3YU_Ty",
        "colab_type": "code",
        "colab": {},
        "outputId": "6c4f1f6a-72e5-4792-ba26-3c7ac1282c01"
      },
      "source": [
        "hidden1 = model.layers[1]\n",
        "hidden1.name"
      ],
      "execution_count": 0,
      "outputs": [
        {
          "output_type": "execute_result",
          "data": {
            "text/plain": [
              "'dense'"
            ]
          },
          "metadata": {
            "tags": []
          },
          "execution_count": 29
        }
      ]
    },
    {
      "cell_type": "code",
      "metadata": {
        "id": "YUNdwxFyU_Tz",
        "colab_type": "code",
        "colab": {},
        "outputId": "02a70c31-ba0a-40f7-954f-66b631396f23"
      },
      "source": [
        "model.get_layer(hidden1.name) is hidden1"
      ],
      "execution_count": 0,
      "outputs": [
        {
          "output_type": "execute_result",
          "data": {
            "text/plain": [
              "True"
            ]
          },
          "metadata": {
            "tags": []
          },
          "execution_count": 30
        }
      ]
    },
    {
      "cell_type": "code",
      "metadata": {
        "id": "zkk6VLx1U_T1",
        "colab_type": "code",
        "colab": {}
      },
      "source": [
        "weights, biases = hidden1.get_weights()"
      ],
      "execution_count": 0,
      "outputs": []
    },
    {
      "cell_type": "code",
      "metadata": {
        "id": "ivceoOguU_T2",
        "colab_type": "code",
        "colab": {},
        "outputId": "1bd698c1-7d5c-4e32-d095-e3cbecad2657"
      },
      "source": [
        "weights"
      ],
      "execution_count": 0,
      "outputs": [
        {
          "output_type": "execute_result",
          "data": {
            "text/plain": [
              "array([[ 0.02448617, -0.00877795, -0.02189048, ..., -0.02766046,\n",
              "         0.03859074, -0.06889391],\n",
              "       [ 0.00476504, -0.03105379, -0.0586676 , ...,  0.00602964,\n",
              "        -0.02763776, -0.04165364],\n",
              "       [-0.06189284, -0.06901957,  0.07102345, ..., -0.04238207,\n",
              "         0.07121518, -0.07331658],\n",
              "       ...,\n",
              "       [-0.03048757,  0.02155137, -0.05400612, ..., -0.00113463,\n",
              "         0.00228987,  0.05581069],\n",
              "       [ 0.07061854, -0.06960931,  0.07038955, ..., -0.00384101,\n",
              "         0.00034875,  0.02878492],\n",
              "       [-0.06022581,  0.01577859, -0.02585464, ..., -0.00527829,\n",
              "         0.00272203, -0.06793761]], dtype=float32)"
            ]
          },
          "metadata": {
            "tags": []
          },
          "execution_count": 32
        }
      ]
    },
    {
      "cell_type": "code",
      "metadata": {
        "id": "psKdTrO0U_T5",
        "colab_type": "code",
        "colab": {},
        "outputId": "02d22d15-546d-455f-ea8e-fd5463f89b54"
      },
      "source": [
        "weights.shape"
      ],
      "execution_count": 0,
      "outputs": [
        {
          "output_type": "execute_result",
          "data": {
            "text/plain": [
              "(784, 300)"
            ]
          },
          "metadata": {
            "tags": []
          },
          "execution_count": 33
        }
      ]
    },
    {
      "cell_type": "code",
      "metadata": {
        "id": "2z1VWrp5U_T7",
        "colab_type": "code",
        "colab": {},
        "outputId": "a424693c-98e5-4c87-86f1-f3c9656af73e"
      },
      "source": [
        "biases"
      ],
      "execution_count": 0,
      "outputs": [
        {
          "output_type": "execute_result",
          "data": {
            "text/plain": [
              "array([0., 0., 0., 0., 0., 0., 0., 0., 0., 0., 0., 0., 0., 0., 0., 0., 0.,\n",
              "       0., 0., 0., 0., 0., 0., 0., 0., 0., 0., 0., 0., 0., 0., 0., 0., 0.,\n",
              "       0., 0., 0., 0., 0., 0., 0., 0., 0., 0., 0., 0., 0., 0., 0., 0., 0.,\n",
              "       0., 0., 0., 0., 0., 0., 0., 0., 0., 0., 0., 0., 0., 0., 0., 0., 0.,\n",
              "       0., 0., 0., 0., 0., 0., 0., 0., 0., 0., 0., 0., 0., 0., 0., 0., 0.,\n",
              "       0., 0., 0., 0., 0., 0., 0., 0., 0., 0., 0., 0., 0., 0., 0., 0., 0.,\n",
              "       0., 0., 0., 0., 0., 0., 0., 0., 0., 0., 0., 0., 0., 0., 0., 0., 0.,\n",
              "       0., 0., 0., 0., 0., 0., 0., 0., 0., 0., 0., 0., 0., 0., 0., 0., 0.,\n",
              "       0., 0., 0., 0., 0., 0., 0., 0., 0., 0., 0., 0., 0., 0., 0., 0., 0.,\n",
              "       0., 0., 0., 0., 0., 0., 0., 0., 0., 0., 0., 0., 0., 0., 0., 0., 0.,\n",
              "       0., 0., 0., 0., 0., 0., 0., 0., 0., 0., 0., 0., 0., 0., 0., 0., 0.,\n",
              "       0., 0., 0., 0., 0., 0., 0., 0., 0., 0., 0., 0., 0., 0., 0., 0., 0.,\n",
              "       0., 0., 0., 0., 0., 0., 0., 0., 0., 0., 0., 0., 0., 0., 0., 0., 0.,\n",
              "       0., 0., 0., 0., 0., 0., 0., 0., 0., 0., 0., 0., 0., 0., 0., 0., 0.,\n",
              "       0., 0., 0., 0., 0., 0., 0., 0., 0., 0., 0., 0., 0., 0., 0., 0., 0.,\n",
              "       0., 0., 0., 0., 0., 0., 0., 0., 0., 0., 0., 0., 0., 0., 0., 0., 0.,\n",
              "       0., 0., 0., 0., 0., 0., 0., 0., 0., 0., 0., 0., 0., 0., 0., 0., 0.,\n",
              "       0., 0., 0., 0., 0., 0., 0., 0., 0., 0., 0.], dtype=float32)"
            ]
          },
          "metadata": {
            "tags": []
          },
          "execution_count": 34
        }
      ]
    },
    {
      "cell_type": "code",
      "metadata": {
        "id": "Y8F1TqlbU_T9",
        "colab_type": "code",
        "colab": {},
        "outputId": "a1699cec-26a4-4ce1-cf77-e6a4ff9490e9"
      },
      "source": [
        "biases.shape"
      ],
      "execution_count": 0,
      "outputs": [
        {
          "output_type": "execute_result",
          "data": {
            "text/plain": [
              "(300,)"
            ]
          },
          "metadata": {
            "tags": []
          },
          "execution_count": 35
        }
      ]
    },
    {
      "cell_type": "code",
      "metadata": {
        "id": "2EwvrPUwU_T_",
        "colab_type": "code",
        "colab": {}
      },
      "source": [
        "model.compile(loss=\"sparse_categorical_crossentropy\",\n",
        "              optimizer=\"sgd\",\n",
        "              metrics=[\"accuracy\"])"
      ],
      "execution_count": 0,
      "outputs": []
    },
    {
      "cell_type": "markdown",
      "metadata": {
        "id": "SwVDNRGTU_UB",
        "colab_type": "text"
      },
      "source": [
        "This is equivalent to:"
      ]
    },
    {
      "cell_type": "markdown",
      "metadata": {
        "id": "QihiuDR-U_UC",
        "colab_type": "text"
      },
      "source": [
        "```python\n",
        "model.compile(loss=keras.losses.sparse_categorical_crossentropy,\n",
        "              optimizer=keras.optimizers.SGD(),\n",
        "              metrics=[keras.metrics.sparse_categorical_accuracy])\n",
        "```"
      ]
    },
    {
      "cell_type": "code",
      "metadata": {
        "id": "FHTKCPoqU_UD",
        "colab_type": "code",
        "colab": {},
        "outputId": "a3fd69e1-81ea-4921-c29a-cd63e79de75e"
      },
      "source": [
        "history = model.fit(X_train, y_train, epochs=30,\n",
        "                    validation_data=(X_valid, y_valid))"
      ],
      "execution_count": 0,
      "outputs": [
        {
          "output_type": "stream",
          "text": [
            "WARNING: Logging before flag parsing goes to stderr.\n",
            "W0611 09:32:55.423388 140735810999168 deprecation.py:323] From /Users/ageron/miniconda3/envs/tf2/lib/python3.6/site-packages/tensorflow/python/ops/math_grad.py:1251: add_dispatch_support.<locals>.wrapper (from tensorflow.python.ops.array_ops) is deprecated and will be removed in a future version.\n",
            "Instructions for updating:\n",
            "Use tf.where in 2.0, which has the same broadcast rule as np.where\n"
          ],
          "name": "stderr"
        },
        {
          "output_type": "stream",
          "text": [
            "Train on 55000 samples, validate on 5000 samples\n",
            "Epoch 1/30\n",
            "55000/55000 [==============================] - 3s 62us/sample - loss: 0.7217 - accuracy: 0.7661 - val_loss: 0.4972 - val_accuracy: 0.8366\n",
            "Epoch 2/30\n",
            "55000/55000 [==============================] - 3s 51us/sample - loss: 0.4839 - accuracy: 0.8323 - val_loss: 0.4459 - val_accuracy: 0.8482\n",
            "Epoch 3/30\n",
            "55000/55000 [==============================] - 3s 55us/sample - loss: 0.4392 - accuracy: 0.8471 - val_loss: 0.4035 - val_accuracy: 0.8648\n",
            "Epoch 4/30\n",
            "55000/55000 [==============================] - 3s 52us/sample - loss: 0.4131 - accuracy: 0.8546 - val_loss: 0.3964 - val_accuracy: 0.8638\n",
            "Epoch 5/30\n",
            "55000/55000 [==============================] - 3s 51us/sample - loss: 0.3923 - accuracy: 0.8632 - val_loss: 0.3740 - val_accuracy: 0.8700\n",
            "Epoch 6/30\n",
            "55000/55000 [==============================] - 3s 50us/sample - loss: 0.3768 - accuracy: 0.8668 - val_loss: 0.3709 - val_accuracy: 0.8702\n",
            "Epoch 7/30\n",
            "55000/55000 [==============================] - 3s 51us/sample - loss: 0.3625 - accuracy: 0.8717 - val_loss: 0.3698 - val_accuracy: 0.8704\n",
            "Epoch 8/30\n",
            "55000/55000 [==============================] - 3s 51us/sample - loss: 0.3520 - accuracy: 0.8751 - val_loss: 0.3695 - val_accuracy: 0.8712\n",
            "Epoch 9/30\n",
            "55000/55000 [==============================] - 3s 50us/sample - loss: 0.3412 - accuracy: 0.8783 - val_loss: 0.3391 - val_accuracy: 0.8806\n",
            "Epoch 10/30\n",
            "55000/55000 [==============================] - 3s 50us/sample - loss: 0.3325 - accuracy: 0.8813 - val_loss: 0.3658 - val_accuracy: 0.8726\n",
            "Epoch 11/30\n",
            "55000/55000 [==============================] - 3s 50us/sample - loss: 0.3242 - accuracy: 0.8840 - val_loss: 0.3331 - val_accuracy: 0.8812\n",
            "Epoch 12/30\n",
            "55000/55000 [==============================] - 3s 52us/sample - loss: 0.3163 - accuracy: 0.8871 - val_loss: 0.3396 - val_accuracy: 0.8766\n",
            "Epoch 13/30\n",
            "55000/55000 [==============================] - 3s 50us/sample - loss: 0.3082 - accuracy: 0.8896 - val_loss: 0.3428 - val_accuracy: 0.8788\n",
            "Epoch 14/30\n",
            "55000/55000 [==============================] - 3s 51us/sample - loss: 0.3027 - accuracy: 0.8917 - val_loss: 0.3188 - val_accuracy: 0.8854\n",
            "Epoch 15/30\n",
            "55000/55000 [==============================] - 3s 54us/sample - loss: 0.2948 - accuracy: 0.8953 - val_loss: 0.3157 - val_accuracy: 0.8882\n",
            "Epoch 16/30\n",
            "55000/55000 [==============================] - 3s 62us/sample - loss: 0.2893 - accuracy: 0.8955 - val_loss: 0.3304 - val_accuracy: 0.8804\n",
            "Epoch 17/30\n",
            "55000/55000 [==============================] - 3s 63us/sample - loss: 0.2837 - accuracy: 0.8975 - val_loss: 0.3163 - val_accuracy: 0.8874\n",
            "Epoch 18/30\n",
            "55000/55000 [==============================] - 3s 52us/sample - loss: 0.2792 - accuracy: 0.8993 - val_loss: 0.3301 - val_accuracy: 0.8804\n",
            "Epoch 19/30\n",
            "55000/55000 [==============================] - 3s 51us/sample - loss: 0.2731 - accuracy: 0.9014 - val_loss: 0.3051 - val_accuracy: 0.8890\n",
            "Epoch 20/30\n",
            "55000/55000 [==============================] - 3s 57us/sample - loss: 0.2679 - accuracy: 0.9044 - val_loss: 0.3031 - val_accuracy: 0.8934\n",
            "Epoch 21/30\n",
            "55000/55000 [==============================] - 4s 67us/sample - loss: 0.2638 - accuracy: 0.9047 - val_loss: 0.3181 - val_accuracy: 0.8882\n",
            "Epoch 22/30\n",
            "55000/55000 [==============================] - 3s 61us/sample - loss: 0.2573 - accuracy: 0.9078 - val_loss: 0.3165 - val_accuracy: 0.8858\n",
            "Epoch 23/30\n",
            "55000/55000 [==============================] - 3s 52us/sample - loss: 0.2543 - accuracy: 0.9077 - val_loss: 0.3124 - val_accuracy: 0.8848\n",
            "Epoch 24/30\n",
            "55000/55000 [==============================] - 3s 50us/sample - loss: 0.2494 - accuracy: 0.9105 - val_loss: 0.3005 - val_accuracy: 0.8938\n",
            "Epoch 25/30\n",
            "55000/55000 [==============================] - 3s 51us/sample - loss: 0.2454 - accuracy: 0.9121 - val_loss: 0.2932 - val_accuracy: 0.8940\n",
            "Epoch 26/30\n",
            "55000/55000 [==============================] - 3s 51us/sample - loss: 0.2408 - accuracy: 0.9126 - val_loss: 0.3149 - val_accuracy: 0.8872\n",
            "Epoch 27/30\n",
            "55000/55000 [==============================] - 3s 52us/sample - loss: 0.2377 - accuracy: 0.9138 - val_loss: 0.2985 - val_accuracy: 0.8908\n",
            "Epoch 28/30\n",
            "55000/55000 [==============================] - 3s 57us/sample - loss: 0.2331 - accuracy: 0.9165 - val_loss: 0.2981 - val_accuracy: 0.8920\n",
            "Epoch 29/30\n",
            "55000/55000 [==============================] - 3s 56us/sample - loss: 0.2289 - accuracy: 0.9176 - val_loss: 0.2959 - val_accuracy: 0.8930\n",
            "Epoch 30/30\n",
            "55000/55000 [==============================] - 3s 51us/sample - loss: 0.2255 - accuracy: 0.9183 - val_loss: 0.3004 - val_accuracy: 0.8926\n"
          ],
          "name": "stdout"
        }
      ]
    },
    {
      "cell_type": "code",
      "metadata": {
        "id": "SKBYsCBYU_UG",
        "colab_type": "code",
        "colab": {},
        "outputId": "3178bf10-637a-4d69-c90e-b669d9c8d589"
      },
      "source": [
        "history.params"
      ],
      "execution_count": 0,
      "outputs": [
        {
          "output_type": "execute_result",
          "data": {
            "text/plain": [
              "{'batch_size': 32,\n",
              " 'epochs': 30,\n",
              " 'steps': None,\n",
              " 'samples': 55000,\n",
              " 'verbose': 0,\n",
              " 'do_validation': True,\n",
              " 'metrics': ['loss', 'accuracy', 'val_loss', 'val_accuracy']}"
            ]
          },
          "metadata": {
            "tags": []
          },
          "execution_count": 38
        }
      ]
    },
    {
      "cell_type": "code",
      "metadata": {
        "id": "gZgdkCEBU_UN",
        "colab_type": "code",
        "colab": {},
        "outputId": "219dd4b2-a870-46e5-d31a-3e4584801f6c"
      },
      "source": [
        "print(history.epoch)"
      ],
      "execution_count": 0,
      "outputs": [
        {
          "output_type": "stream",
          "text": [
            "[0, 1, 2, 3, 4, 5, 6, 7, 8, 9, 10, 11, 12, 13, 14, 15, 16, 17, 18, 19, 20, 21, 22, 23, 24, 25, 26, 27, 28, 29]\n"
          ],
          "name": "stdout"
        }
      ]
    },
    {
      "cell_type": "code",
      "metadata": {
        "id": "EdsJKSW7U_UP",
        "colab_type": "code",
        "colab": {},
        "outputId": "55202f8c-93b7-4603-8848-6c03b88c1fd4"
      },
      "source": [
        "history.history.keys()"
      ],
      "execution_count": 0,
      "outputs": [
        {
          "output_type": "execute_result",
          "data": {
            "text/plain": [
              "dict_keys(['loss', 'accuracy', 'val_loss', 'val_accuracy'])"
            ]
          },
          "metadata": {
            "tags": []
          },
          "execution_count": 40
        }
      ]
    },
    {
      "cell_type": "code",
      "metadata": {
        "id": "pVWZj-7QU_UR",
        "colab_type": "code",
        "colab": {},
        "outputId": "b5a18d47-80c9-43b0-fdf0-7a584c72bbfd"
      },
      "source": [
        "import pandas as pd\n",
        "\n",
        "pd.DataFrame(history.history).plot(figsize=(8, 5))\n",
        "plt.grid(True)\n",
        "plt.gca().set_ylim(0, 1)\n",
        "save_fig(\"keras_learning_curves_plot\")\n",
        "plt.show()"
      ],
      "execution_count": 0,
      "outputs": [
        {
          "output_type": "stream",
          "text": [
            "Saving figure keras_learning_curves_plot\n"
          ],
          "name": "stdout"
        },
        {
          "output_type": "display_data",
          "data": {
            "image/png": "[encoded data removed]",
            "text/plain": [
              "<Figure size 576x360 with 1 Axes>"
            ]
          },
          "metadata": {
            "tags": [],
            "needs_background": "light"
          }
        }
      ]
    },
    {
      "cell_type": "code",
      "metadata": {
        "id": "iZU-o_A7U_UU",
        "colab_type": "code",
        "colab": {},
        "outputId": "4422c041-798f-45e2-b036-d9755ca95e8c"
      },
      "source": [
        "model.evaluate(X_test, y_test)"
      ],
      "execution_count": 0,
      "outputs": [
        {
          "output_type": "stream",
          "text": [
            "10000/10000 [==============================] - 0s 31us/sample - loss: 0.3343 - accuracy: 0.8857\n"
          ],
          "name": "stdout"
        },
        {
          "output_type": "execute_result",
          "data": {
            "text/plain": [
              "[0.33426858170032503, 0.8857]"
            ]
          },
          "metadata": {
            "tags": []
          },
          "execution_count": 42
        }
      ]
    },
    {
      "cell_type": "code",
      "metadata": {
        "id": "Sy2yqILzU_UW",
        "colab_type": "code",
        "colab": {},
        "outputId": "4066045e-5fcc-49c5-f863-c018a5323eef"
      },
      "source": [
        "X_new = X_test[:3]\n",
        "y_proba = model.predict(X_new)\n",
        "y_proba.round(2)"
      ],
      "execution_count": 0,
      "outputs": [
        {
          "output_type": "execute_result",
          "data": {
            "text/plain": [
              "array([[0.  , 0.  , 0.  , 0.  , 0.  , 0.02, 0.  , 0.02, 0.  , 0.96],\n",
              "       [0.  , 0.  , 0.98, 0.  , 0.02, 0.  , 0.  , 0.  , 0.  , 0.  ],\n",
              "       [0.  , 1.  , 0.  , 0.  , 0.  , 0.  , 0.  , 0.  , 0.  , 0.  ]],\n",
              "      dtype=float32)"
            ]
          },
          "metadata": {
            "tags": []
          },
          "execution_count": 43
        }
      ]
    },
    {
      "cell_type": "code",
      "metadata": {
        "id": "c1mbs0L6U_UY",
        "colab_type": "code",
        "colab": {},
        "outputId": "14e27927-a9d1-4366-bc8b-5f86fd9ba33f"
      },
      "source": [
        "y_pred = model.predict_classes(X_new)\n",
        "y_pred"
      ],
      "execution_count": 0,
      "outputs": [
        {
          "output_type": "execute_result",
          "data": {
            "text/plain": [
              "array([9, 2, 1])"
            ]
          },
          "metadata": {
            "tags": []
          },
          "execution_count": 44
        }
      ]
    },
    {
      "cell_type": "code",
      "metadata": {
        "id": "JRlIhEoMU_Ub",
        "colab_type": "code",
        "colab": {},
        "outputId": "4a7520df-2f7b-446d-d726-819c9553cc6e"
      },
      "source": [
        "np.array(class_names)[y_pred]"
      ],
      "execution_count": 0,
      "outputs": [
        {
          "output_type": "execute_result",
          "data": {
            "text/plain": [
              "array(['Ankle boot', 'Pullover', 'Trouser'], dtype='<U11')"
            ]
          },
          "metadata": {
            "tags": []
          },
          "execution_count": 45
        }
      ]
    },
    {
      "cell_type": "code",
      "metadata": {
        "id": "YymY83c-U_Ud",
        "colab_type": "code",
        "colab": {},
        "outputId": "dc7fcba5-9a06-4aa0-8171-b3fad5167b1c"
      },
      "source": [
        "y_new = y_test[:3]\n",
        "y_new"
      ],
      "execution_count": 0,
      "outputs": [
        {
          "output_type": "execute_result",
          "data": {
            "text/plain": [
              "array([9, 2, 1], dtype=uint8)"
            ]
          },
          "metadata": {
            "tags": []
          },
          "execution_count": 46
        }
      ]
    },
    {
      "cell_type": "code",
      "metadata": {
        "id": "C-ipV7_oU_Uf",
        "colab_type": "code",
        "colab": {},
        "outputId": "b24f065f-71ee-4230-8639-7dd01312aa06"
      },
      "source": [
        "plt.figure(figsize=(7.2, 2.4))\n",
        "for index, image in enumerate(X_new):\n",
        "    plt.subplot(1, 3, index + 1)\n",
        "    plt.imshow(image, cmap=\"binary\", interpolation=\"nearest\")\n",
        "    plt.axis('off')\n",
        "    plt.title(class_names[y_test[index]], fontsize=12)\n",
        "plt.subplots_adjust(wspace=0.2, hspace=0.5)\n",
        "save_fig('fashion_mnist_images_plot', tight_layout=False)\n",
        "plt.show()"
      ],
      "execution_count": 0,
      "outputs": [
        {
          "output_type": "stream",
          "text": [
            "Saving figure fashion_mnist_images_plot\n"
          ],
          "name": "stdout"
        },
        {
          "output_type": "display_data",
          "data": {
            "image/png": "[encoded data removed]",
            "text/plain": [
              "<Figure size 518.4x172.8 with 3 Axes>"
            ]
          },
          "metadata": {
            "tags": [],
            "needs_background": "light"
          }
        }
      ]
    },
    {
      "cell_type": "markdown",
      "metadata": {
        "id": "mvZiy-z4U_Ug",
        "colab_type": "text"
      },
      "source": [
        "# Regression MLP"
      ]
    },
    {
      "cell_type": "markdown",
      "metadata": {
        "id": "HJVHQnFSU_Ug",
        "colab_type": "text"
      },
      "source": [
        "Let's load, split and scale the California housing dataset (the original one, not the modified one as in chapter 2):"
      ]
    },
    {
      "cell_type": "code",
      "metadata": {
        "id": "nLLdMvGxU_Uh",
        "colab_type": "code",
        "colab": {}
      },
      "source": [
        "from sklearn.datasets import fetch_california_housing\n",
        "from sklearn.model_selection import train_test_split\n",
        "from sklearn.preprocessing import StandardScaler\n",
        "\n",
        "housing = fetch_california_housing()\n",
        "\n",
        "X_train_full, X_test, y_train_full, y_test = train_test_split(housing.data, housing.target, random_state=42)\n",
        "X_train, X_valid, y_train, y_valid = train_test_split(X_train_full, y_train_full, random_state=42)\n",
        "\n",
        "scaler = StandardScaler()\n",
        "X_train = scaler.fit_transform(X_train)\n",
        "X_valid = scaler.transform(X_valid)\n",
        "X_test = scaler.transform(X_test)"
      ],
      "execution_count": 0,
      "outputs": []
    },
    {
      "cell_type": "code",
      "metadata": {
        "id": "W_od4nPBU_Ui",
        "colab_type": "code",
        "colab": {}
      },
      "source": [
        "np.random.seed(42)\n",
        "tf.random.set_seed(42)"
      ],
      "execution_count": 0,
      "outputs": []
    },
    {
      "cell_type": "code",
      "metadata": {
        "id": "gp2qFovIU_Uj",
        "colab_type": "code",
        "colab": {},
        "outputId": "fc6ad892-7c11-49b0-d741-90045d495556"
      },
      "source": [
        "model = keras.models.Sequential([\n",
        "    keras.layers.Dense(30, activation=\"relu\", input_shape=X_train.shape[1:]),\n",
        "    keras.layers.Dense(1)\n",
        "])\n",
        "model.compile(loss=\"mean_squared_error\", optimizer=keras.optimizers.SGD(lr=1e-3))\n",
        "history = model.fit(X_train, y_train, epochs=20, validation_data=(X_valid, y_valid))\n",
        "mse_test = model.evaluate(X_test, y_test)\n",
        "X_new = X_test[:3]\n",
        "y_pred = model.predict(X_new)"
      ],
      "execution_count": 0,
      "outputs": [
        {
          "output_type": "stream",
          "text": [
            "Train on 11610 samples, validate on 3870 samples\n",
            "Epoch 1/20\n",
            "11610/11610 [==============================] - 0s 39us/sample - loss: 1.6343 - val_loss: 0.9361\n",
            "Epoch 2/20\n",
            "11610/11610 [==============================] - 0s 31us/sample - loss: 0.7053 - val_loss: 0.6556\n",
            "Epoch 3/20\n",
            "11610/11610 [==============================] - 0s 32us/sample - loss: 0.6343 - val_loss: 0.6028\n",
            "Epoch 4/20\n",
            "11610/11610 [==============================] - 0s 31us/sample - loss: 0.5974 - val_loss: 0.5631\n",
            "Epoch 5/20\n",
            "11610/11610 [==============================] - 0s 32us/sample - loss: 0.5701 - val_loss: 0.5375\n",
            "Epoch 6/20\n",
            "11610/11610 [==============================] - 0s 32us/sample - loss: 0.5474 - val_loss: 0.5165\n",
            "Epoch 7/20\n",
            "11610/11610 [==============================] - 0s 32us/sample - loss: 0.5283 - val_loss: 0.5072\n",
            "Epoch 8/20\n",
            "11610/11610 [==============================] - 0s 32us/sample - loss: 0.5130 - val_loss: 0.4806\n",
            "Epoch 9/20\n",
            "11610/11610 [==============================] - 0s 32us/sample - loss: 0.4989 - val_loss: 0.4712\n",
            "Epoch 10/20\n",
            "11610/11610 [==============================] - 0s 32us/sample - loss: 0.4874 - val_loss: 0.4651\n",
            "Epoch 11/20\n",
            "11610/11610 [==============================] - 0s 32us/sample - loss: 0.4780 - val_loss: 0.4457\n",
            "Epoch 12/20\n",
            "11610/11610 [==============================] - 0s 31us/sample - loss: 0.4690 - val_loss: 0.4364\n",
            "Epoch 13/20\n",
            "11610/11610 [==============================] - 0s 31us/sample - loss: 0.4614 - val_loss: 0.4299\n",
            "Epoch 14/20\n",
            "11610/11610 [==============================] - 0s 32us/sample - loss: 0.4550 - val_loss: 0.4245\n",
            "Epoch 15/20\n",
            "11610/11610 [==============================] - 0s 31us/sample - loss: 0.4490 - val_loss: 0.4175\n",
            "Epoch 16/20\n",
            "11610/11610 [==============================] - 0s 35us/sample - loss: 0.4437 - val_loss: 0.4121\n",
            "Epoch 17/20\n",
            "11610/11610 [==============================] - 0s 35us/sample - loss: 0.4390 - val_loss: 0.4099\n",
            "Epoch 18/20\n",
            "11610/11610 [==============================] - 0s 33us/sample - loss: 0.4347 - val_loss: 0.4037\n",
            "Epoch 19/20\n",
            "11610/11610 [==============================] - 0s 32us/sample - loss: 0.4309 - val_loss: 0.3997\n",
            "Epoch 20/20\n",
            "11610/11610 [==============================] - 0s 33us/sample - loss: 0.4275 - val_loss: 0.3971\n",
            "5160/5160 [==============================] - 0s 18us/sample - loss: 0.4213\n"
          ],
          "name": "stdout"
        }
      ]
    },
    {
      "cell_type": "code",
      "metadata": {
        "id": "nnA10J9IU_Ul",
        "colab_type": "code",
        "colab": {},
        "outputId": "4001aaa1-b48c-4ea9-afd4-371bff8518e0"
      },
      "source": [
        "plt.plot(pd.DataFrame(history.history))\n",
        "plt.grid(True)\n",
        "plt.gca().set_ylim(0, 1)\n",
        "plt.show()"
      ],
      "execution_count": 0,
      "outputs": [
        {
          "output_type": "display_data",
          "data": {
            "image/png": "[encoded data removed]",
            "text/plain": [
              "<Figure size 432x288 with 1 Axes>"
            ]
          },
          "metadata": {
            "tags": [],
            "needs_background": "light"
          }
        }
      ]
    },
    {
      "cell_type": "code",
      "metadata": {
        "id": "t5lPtEM-U_Uq",
        "colab_type": "code",
        "colab": {},
        "outputId": "4ded603f-96bd-4a99-e57a-09425039befe"
      },
      "source": [
        "y_pred"
      ],
      "execution_count": 0,
      "outputs": [
        {
          "output_type": "execute_result",
          "data": {
            "text/plain": [
              "array([[0.3874537],\n",
              "       [1.6820507],\n",
              "       [3.0960474]], dtype=float32)"
            ]
          },
          "metadata": {
            "tags": []
          },
          "execution_count": 52
        }
      ]
    },
    {
      "cell_type": "markdown",
      "metadata": {
        "id": "LoJoQT3nU_Ur",
        "colab_type": "text"
      },
      "source": [
        "# Functional API"
      ]
    },
    {
      "cell_type": "markdown",
      "metadata": {
        "id": "1oDyl461U_Us",
        "colab_type": "text"
      },
      "source": [
        "Not all neural network models are simply sequential. Some may have complex topologies. Some may have multiple inputs and/or multiple outputs. For example, a Wide & Deep neural network (see [paper](https://ai.google/research/pubs/pub45413)) connects all or part of the inputs directly to the output layer."
      ]
    },
    {
      "cell_type": "code",
      "metadata": {
        "id": "wL6t6pycU_Us",
        "colab_type": "code",
        "colab": {}
      },
      "source": [
        "np.random.seed(42)\n",
        "tf.random.set_seed(42)"
      ],
      "execution_count": 0,
      "outputs": []
    },
    {
      "cell_type": "code",
      "metadata": {
        "id": "hzWiWtXVU_Ut",
        "colab_type": "code",
        "colab": {}
      },
      "source": [
        "input_ = keras.layers.Input(shape=X_train.shape[1:])\n",
        "hidden1 = keras.layers.Dense(30, activation=\"relu\")(input_)\n",
        "hidden2 = keras.layers.Dense(30, activation=\"relu\")(hidden1)\n",
        "concat = keras.layers.concatenate([input_, hidden2])\n",
        "output = keras.layers.Dense(1)(concat)\n",
        "model = keras.models.Model(inputs=[input_], outputs=[output])"
      ],
      "execution_count": 0,
      "outputs": []
    },
    {
      "cell_type": "code",
      "metadata": {
        "id": "lih1_ZTEU_Uu",
        "colab_type": "code",
        "colab": {},
        "outputId": "b5c09ab7-e1af-4190-9e58-1380d5a9b1e9"
      },
      "source": [
        "model.summary()"
      ],
      "execution_count": 0,
      "outputs": [
        {
          "output_type": "stream",
          "text": [
            "Model: \"model_5\"\n",
            "__________________________________________________________________________________________________\n",
            "Layer (type)                    Output Shape         Param #     Connected to                     \n",
            "==================================================================================================\n",
            "input_3 (InputLayer)            [(None, 8)]          0                                            \n",
            "__________________________________________________________________________________________________\n",
            "dense_25 (Dense)                (None, 30)           270         input_3[0][0]                    \n",
            "__________________________________________________________________________________________________\n",
            "dense_26 (Dense)                (None, 30)           930         dense_25[0][0]                   \n",
            "__________________________________________________________________________________________________\n",
            "concatenate_5 (Concatenate)     (None, 38)           0           input_3[0][0]                    \n",
            "                                                                 dense_26[0][0]                   \n",
            "__________________________________________________________________________________________________\n",
            "dense_27 (Dense)                (None, 1)            39          concatenate_5[0][0]              \n",
            "==================================================================================================\n",
            "Total params: 1,239\n",
            "Trainable params: 1,239\n",
            "Non-trainable params: 0\n",
            "__________________________________________________________________________________________________\n"
          ],
          "name": "stdout"
        }
      ]
    },
    {
      "cell_type": "code",
      "metadata": {
        "id": "hO2zx1aVU_Ux",
        "colab_type": "code",
        "colab": {},
        "outputId": "622dcbe8-f14d-494d-a801-e73d115a1b22"
      },
      "source": [
        "model.compile(loss=\"mean_squared_error\", optimizer=keras.optimizers.SGD(lr=1e-3))\n",
        "history = model.fit(X_train, y_train, epochs=20,\n",
        "                    validation_data=(X_valid, y_valid))\n",
        "mse_test = model.evaluate(X_test, y_test)\n",
        "y_pred = model.predict(X_new)"
      ],
      "execution_count": 0,
      "outputs": [
        {
          "output_type": "stream",
          "text": [
            "Train on 11610 samples, validate on 3870 samples\n",
            "Epoch 1/20\n",
            "11610/11610 [==============================] - 0s 43us/sample - loss: 1.2544 - val_loss: 2.9415\n",
            "Epoch 2/20\n",
            "11610/11610 [==============================] - 0s 32us/sample - loss: 0.6531 - val_loss: 0.8754\n",
            "Epoch 3/20\n",
            "11610/11610 [==============================] - 0s 34us/sample - loss: 0.5873 - val_loss: 0.5529\n",
            "Epoch 4/20\n",
            "11610/11610 [==============================] - 0s 32us/sample - loss: 0.5574 - val_loss: 0.5205\n",
            "Epoch 5/20\n",
            "11610/11610 [==============================] - 0s 33us/sample - loss: 0.5343 - val_loss: 0.5399\n",
            "Epoch 6/20\n",
            "11610/11610 [==============================] - 0s 32us/sample - loss: 0.5160 - val_loss: 0.4793\n",
            "Epoch 7/20\n",
            "11610/11610 [==============================] - 0s 32us/sample - loss: 0.5004 - val_loss: 0.4655\n",
            "Epoch 8/20\n",
            "11610/11610 [==============================] - 0s 33us/sample - loss: 0.4873 - val_loss: 0.4820\n",
            "Epoch 9/20\n",
            "11610/11610 [==============================] - 0s 32us/sample - loss: 0.4761 - val_loss: 0.4421\n",
            "Epoch 10/20\n",
            "11610/11610 [==============================] - 0s 32us/sample - loss: 0.4658 - val_loss: 0.4321\n",
            "Epoch 11/20\n",
            "11610/11610 [==============================] - 0s 33us/sample - loss: 0.4577 - val_loss: 0.4526\n",
            "Epoch 12/20\n",
            "11610/11610 [==============================] - 0s 32us/sample - loss: 0.4499 - val_loss: 0.4178\n",
            "Epoch 13/20\n",
            "11610/11610 [==============================] - 0s 32us/sample - loss: 0.4428 - val_loss: 0.4162\n",
            "Epoch 14/20\n",
            "11610/11610 [==============================] - 0s 32us/sample - loss: 0.4367 - val_loss: 0.4185\n",
            "Epoch 15/20\n",
            "11610/11610 [==============================] - 0s 32us/sample - loss: 0.4311 - val_loss: 0.3991\n",
            "Epoch 16/20\n",
            "11610/11610 [==============================] - 0s 32us/sample - loss: 0.4259 - val_loss: 0.3998\n",
            "Epoch 17/20\n",
            "11610/11610 [==============================] - 0s 34us/sample - loss: 0.4210 - val_loss: 0.3896\n",
            "Epoch 18/20\n",
            "11610/11610 [==============================] - 0s 33us/sample - loss: 0.4165 - val_loss: 0.3864\n",
            "Epoch 19/20\n",
            "11610/11610 [==============================] - 0s 33us/sample - loss: 0.4123 - val_loss: 0.3819\n",
            "Epoch 20/20\n",
            "11610/11610 [==============================] - 0s 35us/sample - loss: 0.4087 - val_loss: 0.3878\n",
            "5160/5160 [==============================] - 0s 18us/sample - loss: 0.4029\n"
          ],
          "name": "stdout"
        }
      ]
    },
    {
      "cell_type": "markdown",
      "metadata": {
        "id": "Jb4opq8OU_Uy",
        "colab_type": "text"
      },
      "source": [
        "What if you want to send different subsets of input features through the wide or deep paths? We will send 5 features (features 0 to 4), and 6 through the deep path (features 2 to 7). Note that 3 features will go through both (features 2, 3 and 4)."
      ]
    },
    {
      "cell_type": "code",
      "metadata": {
        "id": "6mnyvdi7U_U1",
        "colab_type": "code",
        "colab": {}
      },
      "source": [
        "np.random.seed(42)\n",
        "tf.random.set_seed(42)"
      ],
      "execution_count": 0,
      "outputs": []
    },
    {
      "cell_type": "code",
      "metadata": {
        "id": "czqZLCpWU_U3",
        "colab_type": "code",
        "colab": {}
      },
      "source": [
        "input_A = keras.layers.Input(shape=[5], name=\"wide_input\")\n",
        "input_B = keras.layers.Input(shape=[6], name=\"deep_input\")\n",
        "hidden1 = keras.layers.Dense(30, activation=\"relu\")(input_B)\n",
        "hidden2 = keras.layers.Dense(30, activation=\"relu\")(hidden1)\n",
        "concat = keras.layers.concatenate([input_A, hidden2])\n",
        "output = keras.layers.Dense(1, name=\"output\")(concat)\n",
        "model = keras.models.Model(inputs=[input_A, input_B], outputs=[output])"
      ],
      "execution_count": 0,
      "outputs": []
    },
    {
      "cell_type": "code",
      "metadata": {
        "id": "gTYuT49cU_U4",
        "colab_type": "code",
        "colab": {},
        "outputId": "5881ba6c-eea3-4c35-e666-31fb5c90ab5a"
      },
      "source": [
        "model.compile(loss=\"mse\", optimizer=keras.optimizers.SGD(lr=1e-3))\n",
        "\n",
        "X_train_A, X_train_B = X_train[:, :5], X_train[:, 2:]\n",
        "X_valid_A, X_valid_B = X_valid[:, :5], X_valid[:, 2:]\n",
        "X_test_A, X_test_B = X_test[:, :5], X_test[:, 2:]\n",
        "X_new_A, X_new_B = X_test_A[:3], X_test_B[:3]\n",
        "\n",
        "history = model.fit((X_train_A, X_train_B), y_train, epochs=20,\n",
        "                    validation_data=((X_valid_A, X_valid_B), y_valid))\n",
        "mse_test = model.evaluate((X_test_A, X_test_B), y_test)\n",
        "y_pred = model.predict((X_new_A, X_new_B))"
      ],
      "execution_count": 0,
      "outputs": [
        {
          "output_type": "stream",
          "text": [
            "Train on 11610 samples, validate on 3870 samples\n",
            "Epoch 1/20\n",
            "11610/11610 [==============================] - 1s 45us/sample - loss: 1.8070 - val_loss: 0.8422\n",
            "Epoch 2/20\n",
            "11610/11610 [==============================] - 0s 34us/sample - loss: 0.6752 - val_loss: 0.6426\n",
            "Epoch 3/20\n",
            "11610/11610 [==============================] - 0s 34us/sample - loss: 0.5969 - val_loss: 0.5829\n",
            "Epoch 4/20\n",
            "11610/11610 [==============================] - 0s 34us/sample - loss: 0.5580 - val_loss: 0.5259\n",
            "Epoch 5/20\n",
            "11610/11610 [==============================] - 0s 34us/sample - loss: 0.5317 - val_loss: 0.5005\n",
            "Epoch 6/20\n",
            "11610/11610 [==============================] - 0s 33us/sample - loss: 0.5125 - val_loss: 0.4792\n",
            "Epoch 7/20\n",
            "11610/11610 [==============================] - 0s 34us/sample - loss: 0.4963 - val_loss: 0.4786\n",
            "Epoch 8/20\n",
            "11610/11610 [==============================] - 0s 34us/sample - loss: 0.4840 - val_loss: 0.4562\n",
            "Epoch 9/20\n",
            "11610/11610 [==============================] - 0s 34us/sample - loss: 0.4733 - val_loss: 0.4407\n",
            "Epoch 10/20\n",
            "11610/11610 [==============================] - 0s 34us/sample - loss: 0.4640 - val_loss: 0.4320\n",
            "Epoch 11/20\n",
            "11610/11610 [==============================] - 0s 37us/sample - loss: 0.4576 - val_loss: 0.4286\n",
            "Epoch 12/20\n",
            "11610/11610 [==============================] - 0s 33us/sample - loss: 0.4516 - val_loss: 0.4226\n",
            "Epoch 13/20\n",
            "11610/11610 [==============================] - 0s 33us/sample - loss: 0.4463 - val_loss: 0.4263\n",
            "Epoch 14/20\n",
            "11610/11610 [==============================] - 0s 33us/sample - loss: 0.4428 - val_loss: 0.4102\n",
            "Epoch 15/20\n",
            "11610/11610 [==============================] - 0s 33us/sample - loss: 0.4392 - val_loss: 0.4039\n",
            "Epoch 16/20\n",
            "11610/11610 [==============================] - 0s 33us/sample - loss: 0.4352 - val_loss: 0.4021\n",
            "Epoch 17/20\n",
            "11610/11610 [==============================] - 0s 34us/sample - loss: 0.4329 - val_loss: 0.4035\n",
            "Epoch 18/20\n",
            "11610/11610 [==============================] - 0s 34us/sample - loss: 0.4307 - val_loss: 0.3951\n",
            "Epoch 19/20\n",
            "11610/11610 [==============================] - 0s 33us/sample - loss: 0.4275 - val_loss: 0.3932\n",
            "Epoch 20/20\n",
            "11610/11610 [==============================] - 0s 34us/sample - loss: 0.4264 - val_loss: 0.4000\n",
            "5160/5160 [==============================] - 0s 19us/sample - loss: 0.4204\n"
          ],
          "name": "stdout"
        }
      ]
    },
    {
      "cell_type": "markdown",
      "metadata": {
        "id": "zYSyXAd8U_U6",
        "colab_type": "text"
      },
      "source": [
        "Adding an auxiliary output for regularization:"
      ]
    },
    {
      "cell_type": "code",
      "metadata": {
        "id": "DzDf-EB6U_U7",
        "colab_type": "code",
        "colab": {}
      },
      "source": [
        "np.random.seed(42)\n",
        "tf.random.set_seed(42)"
      ],
      "execution_count": 0,
      "outputs": []
    },
    {
      "cell_type": "code",
      "metadata": {
        "id": "5PbKWEjXU_U_",
        "colab_type": "code",
        "colab": {}
      },
      "source": [
        "input_A = keras.layers.Input(shape=[5], name=\"wide_input\")\n",
        "input_B = keras.layers.Input(shape=[6], name=\"deep_input\")\n",
        "hidden1 = keras.layers.Dense(30, activation=\"relu\")(input_B)\n",
        "hidden2 = keras.layers.Dense(30, activation=\"relu\")(hidden1)\n",
        "concat = keras.layers.concatenate([input_A, hidden2])\n",
        "output = keras.layers.Dense(1, name=\"main_output\")(concat)\n",
        "aux_output = keras.layers.Dense(1, name=\"aux_output\")(hidden2)\n",
        "model = keras.models.Model(inputs=[input_A, input_B],\n",
        "                           outputs=[output, aux_output])"
      ],
      "execution_count": 0,
      "outputs": []
    },
    {
      "cell_type": "code",
      "metadata": {
        "id": "Go7-pbWLU_VB",
        "colab_type": "code",
        "colab": {}
      },
      "source": [
        "model.compile(loss=[\"mse\", \"mse\"], loss_weights=[0.9, 0.1], optimizer=keras.optimizers.SGD(lr=1e-3))"
      ],
      "execution_count": 0,
      "outputs": []
    },
    {
      "cell_type": "code",
      "metadata": {
        "id": "zgk_WYIzU_VC",
        "colab_type": "code",
        "colab": {},
        "outputId": "94bc5d72-452f-4f2c-aa65-ea7779abdff5"
      },
      "source": [
        "history = model.fit([X_train_A, X_train_B], [y_train, y_train], epochs=20,\n",
        "                    validation_data=([X_valid_A, X_valid_B], [y_valid, y_valid]))"
      ],
      "execution_count": 0,
      "outputs": [
        {
          "output_type": "stream",
          "text": [
            "Train on 11610 samples, validate on 3870 samples\n",
            "Epoch 1/20\n",
            "11610/11610 [==============================] - 1s 57us/sample - loss: 2.1325 - main_output_loss: 1.9139 - aux_output_loss: 4.0950 - val_loss: 1.6650 - val_main_output_loss: 0.8892 - val_aux_output_loss: 8.6440\n",
            "Epoch 2/20\n",
            "11610/11610 [==============================] - 0s 38us/sample - loss: 0.8870 - main_output_loss: 0.6930 - aux_output_loss: 2.6303 - val_loss: 1.4991 - val_main_output_loss: 0.6627 - val_aux_output_loss: 9.0235\n",
            "Epoch 3/20\n",
            "11610/11610 [==============================] - 0s 38us/sample - loss: 0.7421 - main_output_loss: 0.6079 - aux_output_loss: 1.9515 - val_loss: 1.4340 - val_main_output_loss: 0.5748 - val_aux_output_loss: 9.1628\n",
            "Epoch 4/20\n",
            "11610/11610 [==============================] - 0s 38us/sample - loss: 0.6766 - main_output_loss: 0.5683 - aux_output_loss: 1.6515 - val_loss: 1.3260 - val_main_output_loss: 0.5579 - val_aux_output_loss: 8.2343\n",
            "Epoch 5/20\n",
            "11610/11610 [==============================] - 0s 38us/sample - loss: 0.6366 - main_output_loss: 0.5422 - aux_output_loss: 1.4873 - val_loss: 1.2081 - val_main_output_loss: 0.5184 - val_aux_output_loss: 7.4115\n",
            "Epoch 6/20\n",
            "11610/11610 [==============================] - 0s 38us/sample - loss: 0.6082 - main_output_loss: 0.5209 - aux_output_loss: 1.3933 - val_loss: 1.0861 - val_main_output_loss: 0.5113 - val_aux_output_loss: 6.2558\n",
            "Epoch 7/20\n",
            "11610/11610 [==============================] - 0s 38us/sample - loss: 0.5849 - main_output_loss: 0.5034 - aux_output_loss: 1.3185 - val_loss: 0.9914 - val_main_output_loss: 0.5227 - val_aux_output_loss: 5.2070\n",
            "Epoch 8/20\n",
            "11610/11610 [==============================] - 0s 39us/sample - loss: 0.5664 - main_output_loss: 0.4897 - aux_output_loss: 1.2556 - val_loss: 0.8656 - val_main_output_loss: 0.4650 - val_aux_output_loss: 4.4682\n",
            "Epoch 9/20\n",
            "11610/11610 [==============================] - 0s 38us/sample - loss: 0.5506 - main_output_loss: 0.4770 - aux_output_loss: 1.2125 - val_loss: 0.7778 - val_main_output_loss: 0.4563 - val_aux_output_loss: 3.6704\n",
            "Epoch 10/20\n",
            "11610/11610 [==============================] - 0s 41us/sample - loss: 0.5371 - main_output_loss: 0.4668 - aux_output_loss: 1.1711 - val_loss: 0.7089 - val_main_output_loss: 0.4513 - val_aux_output_loss: 3.0250\n",
            "Epoch 11/20\n",
            "11610/11610 [==============================] - 1s 46us/sample - loss: 0.5268 - main_output_loss: 0.4593 - aux_output_loss: 1.1340 - val_loss: 0.6476 - val_main_output_loss: 0.4292 - val_aux_output_loss: 2.6140\n",
            "Epoch 12/20\n",
            "11610/11610 [==============================] - 0s 38us/sample - loss: 0.5176 - main_output_loss: 0.4524 - aux_output_loss: 1.1035 - val_loss: 0.6025 - val_main_output_loss: 0.4200 - val_aux_output_loss: 2.2451\n",
            "Epoch 13/20\n",
            "11610/11610 [==============================] - 0s 38us/sample - loss: 0.5095 - main_output_loss: 0.4463 - aux_output_loss: 1.0766 - val_loss: 0.5692 - val_main_output_loss: 0.4158 - val_aux_output_loss: 1.9492\n",
            "Epoch 14/20\n",
            "11610/11610 [==============================] - 0s 38us/sample - loss: 0.5031 - main_output_loss: 0.4420 - aux_output_loss: 1.0529 - val_loss: 0.5362 - val_main_output_loss: 0.4092 - val_aux_output_loss: 1.6791\n",
            "Epoch 15/20\n",
            "11610/11610 [==============================] - 0s 38us/sample - loss: 0.4972 - main_output_loss: 0.4381 - aux_output_loss: 1.0284 - val_loss: 0.5120 - val_main_output_loss: 0.4053 - val_aux_output_loss: 1.4733\n",
            "Epoch 16/20\n",
            "11610/11610 [==============================] - 0s 39us/sample - loss: 0.4915 - main_output_loss: 0.4341 - aux_output_loss: 1.0078 - val_loss: 0.4935 - val_main_output_loss: 0.4013 - val_aux_output_loss: 1.3245\n",
            "Epoch 17/20\n",
            "11610/11610 [==============================] - 0s 38us/sample - loss: 0.4871 - main_output_loss: 0.4314 - aux_output_loss: 0.9878 - val_loss: 0.4797 - val_main_output_loss: 0.3979 - val_aux_output_loss: 1.2147\n",
            "Epoch 18/20\n",
            "11610/11610 [==============================] - 0s 38us/sample - loss: 0.4830 - main_output_loss: 0.4290 - aux_output_loss: 0.9694 - val_loss: 0.4669 - val_main_output_loss: 0.3954 - val_aux_output_loss: 1.1119\n",
            "Epoch 19/20\n",
            "11610/11610 [==============================] - 0s 38us/sample - loss: 0.4787 - main_output_loss: 0.4262 - aux_output_loss: 0.9513 - val_loss: 0.4577 - val_main_output_loss: 0.3930 - val_aux_output_loss: 1.0410\n",
            "Epoch 20/20\n",
            "11610/11610 [==============================] - 0s 38us/sample - loss: 0.4758 - main_output_loss: 0.4249 - aux_output_loss: 0.9342 - val_loss: 0.4558 - val_main_output_loss: 0.3952 - val_aux_output_loss: 1.0002\n"
          ],
          "name": "stdout"
        }
      ]
    },
    {
      "cell_type": "code",
      "metadata": {
        "id": "eLGQo2_7U_VE",
        "colab_type": "code",
        "colab": {},
        "outputId": "5cd70704-89af-4b26-80a9-6bb0ef7f6bf9"
      },
      "source": [
        "total_loss, main_loss, aux_loss = model.evaluate(\n",
        "    [X_test_A, X_test_B], [y_test, y_test])\n",
        "y_pred_main, y_pred_aux = model.predict([X_new_A, X_new_B])"
      ],
      "execution_count": 0,
      "outputs": [
        {
          "output_type": "stream",
          "text": [
            "5160/5160 [==============================] - 0s 26us/sample - loss: 0.4661 - main_output_loss: 0.4167 - aux_output_loss: 0.9138\n"
          ],
          "name": "stdout"
        }
      ]
    },
    {
      "cell_type": "markdown",
      "metadata": {
        "id": "xYE7Z1clU_VF",
        "colab_type": "text"
      },
      "source": [
        "# The subclassing API"
      ]
    },
    {
      "cell_type": "code",
      "metadata": {
        "id": "Y-7N3PDqU_VF",
        "colab_type": "code",
        "colab": {}
      },
      "source": [
        "class WideAndDeepModel(keras.models.Model):\n",
        "    def __init__(self, units=30, activation=\"relu\", **kwargs):\n",
        "        super().__init__(**kwargs)\n",
        "        self.hidden1 = keras.layers.Dense(units, activation=activation)\n",
        "        self.hidden2 = keras.layers.Dense(units, activation=activation)\n",
        "        self.main_output = keras.layers.Dense(1)\n",
        "        self.aux_output = keras.layers.Dense(1)\n",
        "        \n",
        "    def call(self, inputs):\n",
        "        input_A, input_B = inputs\n",
        "        hidden1 = self.hidden1(input_B)\n",
        "        hidden2 = self.hidden2(hidden1)\n",
        "        concat = keras.layers.concatenate([input_A, hidden2])\n",
        "        main_output = self.main_output(concat)\n",
        "        aux_output = self.aux_output(hidden2)\n",
        "        return main_output, aux_output\n",
        "\n",
        "model = WideAndDeepModel(30, activation=\"relu\")"
      ],
      "execution_count": 0,
      "outputs": []
    },
    {
      "cell_type": "code",
      "metadata": {
        "id": "avxd2SncU_VG",
        "colab_type": "code",
        "colab": {},
        "outputId": "c745d412-e519-4d26-dee7-6f7042029991"
      },
      "source": [
        "model.compile(loss=\"mse\", loss_weights=[0.9, 0.1], optimizer=keras.optimizers.SGD(lr=1e-3))\n",
        "history = model.fit((X_train_A, X_train_B), (y_train, y_train), epochs=10,\n",
        "                    validation_data=((X_valid_A, X_valid_B), (y_valid, y_valid)))\n",
        "total_loss, main_loss, aux_loss = model.evaluate((X_test_A, X_test_B), (y_test, y_test))\n",
        "y_pred_main, y_pred_aux = model.predict((X_new_A, X_new_B))"
      ],
      "execution_count": 0,
      "outputs": [
        {
          "output_type": "stream",
          "text": [
            "Train on 11610 samples, validate on 3870 samples\n",
            "Epoch 1/10\n",
            "11610/11610 [==============================] - 1s 61us/sample - loss: 2.2914 - output_1_loss: 2.1790 - output_2_loss: 3.2954 - val_loss: 2.7823 - val_output_1_loss: 2.0246 - val_output_2_loss: 9.5935\n",
            "Epoch 2/10\n",
            "11610/11610 [==============================] - 0s 40us/sample - loss: 0.9834 - output_1_loss: 0.8678 - output_2_loss: 2.0207 - val_loss: 1.6646 - val_output_1_loss: 0.7720 - val_output_2_loss: 9.6933\n",
            "Epoch 3/10\n",
            "11610/11610 [==============================] - 0s 36us/sample - loss: 0.8264 - output_1_loss: 0.7295 - output_2_loss: 1.6967 - val_loss: 1.4471 - val_output_1_loss: 0.6947 - val_output_2_loss: 8.2170\n",
            "Epoch 4/10\n",
            "11610/11610 [==============================] - 0s 40us/sample - loss: 0.7616 - output_1_loss: 0.6750 - output_2_loss: 1.5418 - val_loss: 1.2658 - val_output_1_loss: 0.6379 - val_output_2_loss: 6.9130\n",
            "Epoch 5/10\n",
            "11610/11610 [==============================] - 0s 40us/sample - loss: 0.7203 - output_1_loss: 0.6400 - output_2_loss: 1.4425 - val_loss: 1.1078 - val_output_1_loss: 0.6015 - val_output_2_loss: 5.6652\n",
            "Epoch 6/10\n",
            "11610/11610 [==============================] - 0s 36us/sample - loss: 0.6889 - output_1_loss: 0.6124 - output_2_loss: 1.3768 - val_loss: 0.9780 - val_output_1_loss: 0.5691 - val_output_2_loss: 4.8158\n",
            "Epoch 7/10\n",
            "11610/11610 [==============================] - 0s 37us/sample - loss: 0.6620 - output_1_loss: 0.5885 - output_2_loss: 1.3240 - val_loss: 0.8896 - val_output_1_loss: 0.5852 - val_output_2_loss: 3.6278\n",
            "Epoch 8/10\n",
            "11610/11610 [==============================] - 0s 37us/sample - loss: 0.6402 - output_1_loss: 0.5697 - output_2_loss: 1.2749 - val_loss: 0.7913 - val_output_1_loss: 0.5294 - val_output_2_loss: 3.1492\n",
            "Epoch 9/10\n",
            "11610/11610 [==============================] - 0s 39us/sample - loss: 0.6200 - output_1_loss: 0.5513 - output_2_loss: 1.2377 - val_loss: 0.7284 - val_output_1_loss: 0.5119 - val_output_2_loss: 2.6768\n",
            "Epoch 10/10\n",
            "11610/11610 [==============================] - 0s 38us/sample - loss: 0.6020 - output_1_loss: 0.5353 - output_2_loss: 1.2002 - val_loss: 0.6832 - val_output_1_loss: 0.4927 - val_output_2_loss: 2.3969\n",
            "5160/5160 [==============================] - 0s 23us/sample - loss: 0.5847 - output_1_loss: 0.5204 - output_2_loss: 1.1756\n"
          ],
          "name": "stdout"
        }
      ]
    },
    {
      "cell_type": "code",
      "metadata": {
        "id": "fec3PaIVU_VI",
        "colab_type": "code",
        "colab": {}
      },
      "source": [
        "model = WideAndDeepModel(30, activation=\"relu\")"
      ],
      "execution_count": 0,
      "outputs": []
    },
    {
      "cell_type": "markdown",
      "metadata": {
        "id": "YmfcVafaU_VJ",
        "colab_type": "text"
      },
      "source": [
        "# Saving and Restoring"
      ]
    },
    {
      "cell_type": "code",
      "metadata": {
        "id": "hYGzz_8sU_VK",
        "colab_type": "code",
        "colab": {}
      },
      "source": [
        "np.random.seed(42)\n",
        "tf.random.set_seed(42)"
      ],
      "execution_count": 0,
      "outputs": []
    },
    {
      "cell_type": "code",
      "metadata": {
        "id": "cYby8EvhU_VL",
        "colab_type": "code",
        "colab": {}
      },
      "source": [
        "model = keras.models.Sequential([\n",
        "    keras.layers.Dense(30, activation=\"relu\", input_shape=[8]),\n",
        "    keras.layers.Dense(30, activation=\"relu\"),\n",
        "    keras.layers.Dense(1)\n",
        "])    "
      ],
      "execution_count": 0,
      "outputs": []
    },
    {
      "cell_type": "code",
      "metadata": {
        "id": "qbOAkHcUU_VQ",
        "colab_type": "code",
        "colab": {},
        "outputId": "c6225764-a7cc-4a10-f033-0aaf40383296"
      },
      "source": [
        "model.compile(loss=\"mse\", optimizer=keras.optimizers.SGD(lr=1e-3))\n",
        "history = model.fit(X_train, y_train, epochs=10, validation_data=(X_valid, y_valid))\n",
        "mse_test = model.evaluate(X_test, y_test)"
      ],
      "execution_count": 0,
      "outputs": [
        {
          "output_type": "stream",
          "text": [
            "Train on 11610 samples, validate on 3870 samples\n",
            "Epoch 1/10\n",
            "11610/11610 [==============================] - 0s 41us/sample - loss: 1.8807 - val_loss: 0.7701\n",
            "Epoch 2/10\n",
            "11610/11610 [==============================] - 0s 31us/sample - loss: 0.6570 - val_loss: 0.7268\n",
            "Epoch 3/10\n",
            "11610/11610 [==============================] - 0s 31us/sample - loss: 0.5932 - val_loss: 0.6569\n",
            "Epoch 4/10\n",
            "11610/11610 [==============================] - 0s 31us/sample - loss: 0.5547 - val_loss: 0.5244\n",
            "Epoch 5/10\n",
            "11610/11610 [==============================] - 0s 31us/sample - loss: 0.5269 - val_loss: 0.5068\n",
            "Epoch 6/10\n",
            "11610/11610 [==============================] - 0s 30us/sample - loss: 0.5035 - val_loss: 0.5028\n",
            "Epoch 7/10\n",
            "11610/11610 [==============================] - 0s 31us/sample - loss: 0.4852 - val_loss: 0.4924\n",
            "Epoch 8/10\n",
            "11610/11610 [==============================] - 0s 31us/sample - loss: 0.4709 - val_loss: 0.4534\n",
            "Epoch 9/10\n",
            "11610/11610 [==============================] - 0s 31us/sample - loss: 0.4578 - val_loss: 0.4403\n",
            "Epoch 10/10\n",
            "11610/11610 [==============================] - 0s 31us/sample - loss: 0.4473 - val_loss: 0.4496\n",
            "5160/5160 [==============================] - 0s 17us/sample - loss: 0.4379\n"
          ],
          "name": "stdout"
        }
      ]
    },
    {
      "cell_type": "code",
      "metadata": {
        "id": "QB3_kZxEU_VS",
        "colab_type": "code",
        "colab": {}
      },
      "source": [
        "model.save(\"my_keras_model.h5\")"
      ],
      "execution_count": 0,
      "outputs": []
    },
    {
      "cell_type": "code",
      "metadata": {
        "id": "wvDnyz92U_VT",
        "colab_type": "code",
        "colab": {}
      },
      "source": [
        "model = keras.models.load_model(\"my_keras_model.h5\")"
      ],
      "execution_count": 0,
      "outputs": []
    },
    {
      "cell_type": "code",
      "metadata": {
        "id": "PW0yoBzbU_VU",
        "colab_type": "code",
        "colab": {},
        "outputId": "d3e78f64-b42c-4ef5-a857-788f810b5774"
      },
      "source": [
        "model.predict(X_new)"
      ],
      "execution_count": 0,
      "outputs": [
        {
          "output_type": "execute_result",
          "data": {
            "text/plain": [
              "array([[0.5492519],\n",
              "       [1.674789 ],\n",
              "       [3.0483952]], dtype=float32)"
            ]
          },
          "metadata": {
            "tags": []
          },
          "execution_count": 73
        }
      ]
    },
    {
      "cell_type": "code",
      "metadata": {
        "id": "F5cwaVHRU_VV",
        "colab_type": "code",
        "colab": {}
      },
      "source": [
        "model.save_weights(\"my_keras_weights.ckpt\")"
      ],
      "execution_count": 0,
      "outputs": []
    },
    {
      "cell_type": "code",
      "metadata": {
        "id": "Z53C13oEU_VW",
        "colab_type": "code",
        "colab": {},
        "outputId": "2ecc8bd4-7b70-4e6f-82cc-61d32779de63"
      },
      "source": [
        "model.load_weights(\"my_keras_weights.ckpt\")"
      ],
      "execution_count": 0,
      "outputs": [
        {
          "output_type": "execute_result",
          "data": {
            "text/plain": [
              "<tensorflow.python.training.tracking.util.CheckpointLoadStatus at 0x13ff15f98>"
            ]
          },
          "metadata": {
            "tags": []
          },
          "execution_count": 75
        }
      ]
    },
    {
      "cell_type": "markdown",
      "metadata": {
        "id": "KawAqEodU_VY",
        "colab_type": "text"
      },
      "source": [
        "# Using Callbacks during Training"
      ]
    },
    {
      "cell_type": "code",
      "metadata": {
        "id": "5H0lfWSgU_VY",
        "colab_type": "code",
        "colab": {}
      },
      "source": [
        "keras.backend.clear_session()\n",
        "np.random.seed(42)\n",
        "tf.random.set_seed(42)"
      ],
      "execution_count": 0,
      "outputs": []
    },
    {
      "cell_type": "code",
      "metadata": {
        "id": "xj043_MEU_VZ",
        "colab_type": "code",
        "colab": {}
      },
      "source": [
        "model = keras.models.Sequential([\n",
        "    keras.layers.Dense(30, activation=\"relu\", input_shape=[8]),\n",
        "    keras.layers.Dense(30, activation=\"relu\"),\n",
        "    keras.layers.Dense(1)\n",
        "])    "
      ],
      "execution_count": 0,
      "outputs": []
    },
    {
      "cell_type": "code",
      "metadata": {
        "id": "wP8dOylAU_Vb",
        "colab_type": "code",
        "colab": {},
        "outputId": "5eddc111-ee74-4100-f4cb-818f9d4b75b9"
      },
      "source": [
        "model.compile(loss=\"mse\", optimizer=keras.optimizers.SGD(lr=1e-3))\n",
        "checkpoint_cb = keras.callbacks.ModelCheckpoint(\"my_keras_model.h5\", save_best_only=True)\n",
        "history = model.fit(X_train, y_train, epochs=10,\n",
        "                    validation_data=(X_valid, y_valid),\n",
        "                    callbacks=[checkpoint_cb])\n",
        "model = keras.models.load_model(\"my_keras_model.h5\") # rollback to best model\n",
        "mse_test = model.evaluate(X_test, y_test)"
      ],
      "execution_count": 0,
      "outputs": [
        {
          "output_type": "stream",
          "text": [
            "Train on 11610 samples, validate on 3870 samples\n",
            "Epoch 1/10\n",
            "11610/11610 [==============================] - 1s 49us/sample - loss: 1.8807 - val_loss: 0.7701\n",
            "Epoch 2/10\n",
            "11610/11610 [==============================] - 0s 34us/sample - loss: 0.6570 - val_loss: 0.7268\n",
            "Epoch 3/10\n",
            "11610/11610 [==============================] - 0s 33us/sample - loss: 0.5932 - val_loss: 0.6569\n",
            "Epoch 4/10\n",
            "11610/11610 [==============================] - 0s 33us/sample - loss: 0.5547 - val_loss: 0.5244\n",
            "Epoch 5/10\n",
            "11610/11610 [==============================] - 0s 34us/sample - loss: 0.5269 - val_loss: 0.5068\n",
            "Epoch 6/10\n",
            "11610/11610 [==============================] - 0s 33us/sample - loss: 0.5035 - val_loss: 0.5028\n",
            "Epoch 7/10\n",
            "11610/11610 [==============================] - 0s 32us/sample - loss: 0.4852 - val_loss: 0.4924\n",
            "Epoch 8/10\n",
            "11610/11610 [==============================] - 0s 32us/sample - loss: 0.4709 - val_loss: 0.4534\n",
            "Epoch 9/10\n",
            "11610/11610 [==============================] - 0s 32us/sample - loss: 0.4578 - val_loss: 0.4403\n",
            "Epoch 10/10\n",
            "11610/11610 [==============================] - 0s 32us/sample - loss: 0.4473 - val_loss: 0.4496\n",
            "5160/5160 [==============================] - 0s 20us/sample - loss: 0.4468\n"
          ],
          "name": "stdout"
        }
      ]
    },
    {
      "cell_type": "code",
      "metadata": {
        "id": "ss8pbd8dU_Vd",
        "colab_type": "code",
        "colab": {},
        "outputId": "85aff4e5-5d3a-4e55-9061-0591fb093a86"
      },
      "source": [
        "model.compile(loss=\"mse\", optimizer=keras.optimizers.SGD(lr=1e-3))\n",
        "early_stopping_cb = keras.callbacks.EarlyStopping(patience=10,\n",
        "                                                  restore_best_weights=True)\n",
        "history = model.fit(X_train, y_train, epochs=100,\n",
        "                    validation_data=(X_valid, y_valid),\n",
        "                    callbacks=[checkpoint_cb, early_stopping_cb])\n",
        "mse_test = model.evaluate(X_test, y_test)"
      ],
      "execution_count": 0,
      "outputs": [
        {
          "output_type": "stream",
          "text": [
            "Train on 11610 samples, validate on 3870 samples\n",
            "Epoch 1/100\n",
            "11610/11610 [==============================] - 0s 43us/sample - loss: 0.4483 - val_loss: 0.4280\n",
            "Epoch 2/100\n",
            "11610/11610 [==============================] - 0s 33us/sample - loss: 0.4393 - val_loss: 0.4106\n",
            "Epoch 3/100\n",
            "11610/11610 [==============================] - 0s 33us/sample - loss: 0.4319 - val_loss: 0.4078\n",
            "Epoch 4/100\n",
            "11610/11610 [==============================] - 0s 33us/sample - loss: 0.4262 - val_loss: 0.4037\n",
            "Epoch 5/100\n",
            "11610/11610 [==============================] - 0s 32us/sample - loss: 0.4205 - val_loss: 0.3956\n",
            "Epoch 6/100\n",
            "11610/11610 [==============================] - 0s 36us/sample - loss: 0.4160 - val_loss: 0.3894\n",
            "Epoch 7/100\n",
            "11610/11610 [==============================] - 0s 35us/sample - loss: 0.4116 - val_loss: 0.3891\n",
            "Epoch 8/100\n",
            "11610/11610 [==============================] - 0s 34us/sample - loss: 0.4077 - val_loss: 0.3817\n",
            "Epoch 9/100\n",
            "11610/11610 [==============================] - 0s 36us/sample - loss: 0.4041 - val_loss: 0.3783\n",
            "Epoch 10/100\n",
            "11610/11610 [==============================] - 0s 33us/sample - loss: 0.4010 - val_loss: 0.3757\n",
            "Epoch 11/100\n",
            "11610/11610 [==============================] - 0s 35us/sample - loss: 0.3980 - val_loss: 0.3731\n",
            "Epoch 12/100\n",
            "11610/11610 [==============================] - 0s 32us/sample - loss: 0.3951 - val_loss: 0.3743\n",
            "Epoch 13/100\n",
            "11610/11610 [==============================] - 0s 33us/sample - loss: 0.3924 - val_loss: 0.3686\n",
            "Epoch 14/100\n",
            "11610/11610 [==============================] - 0s 33us/sample - loss: 0.3898 - val_loss: 0.3678\n",
            "Epoch 15/100\n",
            "11610/11610 [==============================] - 0s 33us/sample - loss: 0.3873 - val_loss: 0.3626\n",
            "Epoch 16/100\n",
            "11610/11610 [==============================] - 0s 33us/sample - loss: 0.3850 - val_loss: 0.3612\n",
            "Epoch 17/100\n",
            "11610/11610 [==============================] - 0s 34us/sample - loss: 0.3831 - val_loss: 0.3583\n",
            "<<48 more lines>>\n",
            "Epoch 42/100\n",
            "11610/11610 [==============================] - 0s 34us/sample - loss: 0.3513 - val_loss: 0.3832\n",
            "Epoch 43/100\n",
            "11610/11610 [==============================] - 0s 31us/sample - loss: 0.3509 - val_loss: 0.3367\n",
            "Epoch 44/100\n",
            "11610/11610 [==============================] - 0s 32us/sample - loss: 0.3499 - val_loss: 0.3488\n",
            "Epoch 45/100\n",
            "11610/11610 [==============================] - 0s 35us/sample - loss: 0.3493 - val_loss: 0.3410\n",
            "Epoch 46/100\n",
            "11610/11610 [==============================] - 0s 32us/sample - loss: 0.3486 - val_loss: 0.3290\n",
            "Epoch 47/100\n",
            "11610/11610 [==============================] - 0s 33us/sample - loss: 0.3480 - val_loss: 0.3921\n",
            "Epoch 48/100\n",
            "11610/11610 [==============================] - 0s 36us/sample - loss: 0.3474 - val_loss: 0.3278\n",
            "Epoch 49/100\n",
            "11610/11610 [==============================] - 0s 34us/sample - loss: 0.3467 - val_loss: 0.3841\n",
            "Epoch 50/100\n",
            "11610/11610 [==============================] - 0s 32us/sample - loss: 0.3464 - val_loss: 0.3370\n",
            "Epoch 51/100\n",
            "11610/11610 [==============================] - 0s 33us/sample - loss: 0.3458 - val_loss: 0.3441\n",
            "Epoch 52/100\n",
            "11610/11610 [==============================] - 0s 31us/sample - loss: 0.3451 - val_loss: 0.3427\n",
            "Epoch 53/100\n",
            "11610/11610 [==============================] - 0s 32us/sample - loss: 0.3445 - val_loss: 0.3459\n",
            "Epoch 54/100\n",
            "11610/11610 [==============================] - 0s 31us/sample - loss: 0.3441 - val_loss: 0.3380\n",
            "Epoch 55/100\n",
            "11610/11610 [==============================] - 0s 32us/sample - loss: 0.3436 - val_loss: 0.3432\n",
            "Epoch 56/100\n",
            "11610/11610 [==============================] - 0s 35us/sample - loss: 0.3432 - val_loss: 0.3415\n",
            "Epoch 57/100\n",
            "11610/11610 [==============================] - 0s 31us/sample - loss: 0.3426 - val_loss: 0.3346\n",
            "Epoch 58/100\n",
            "11610/11610 [==============================] - 0s 32us/sample - loss: 0.3421 - val_loss: 0.3486\n",
            "5160/5160 [==============================] - 0s 17us/sample - loss: 0.3466\n"
          ],
          "name": "stdout"
        }
      ]
    },
    {
      "cell_type": "code",
      "metadata": {
        "id": "ZnvZhONgU_Vf",
        "colab_type": "code",
        "colab": {}
      },
      "source": [
        "class PrintValTrainRatioCallback(keras.callbacks.Callback):\n",
        "    def on_epoch_end(self, epoch, logs):\n",
        "        print(\"\\nval/train: {:.2f}\".format(logs[\"val_loss\"] / logs[\"loss\"]))"
      ],
      "execution_count": 0,
      "outputs": []
    },
    {
      "cell_type": "code",
      "metadata": {
        "id": "g8-Jr4vaU_Vg",
        "colab_type": "code",
        "colab": {},
        "outputId": "0043733d-6626-4b25-ca09-22e87c19e381"
      },
      "source": [
        "val_train_ratio_cb = PrintValTrainRatioCallback()\n",
        "history = model.fit(X_train, y_train, epochs=1,\n",
        "                    validation_data=(X_valid, y_valid),\n",
        "                    callbacks=[val_train_ratio_cb])"
      ],
      "execution_count": 0,
      "outputs": [
        {
          "output_type": "stream",
          "text": [
            "Train on 11610 samples, validate on 3870 samples\n",
            "10144/11610 [=========================>....] - ETA: 0s - loss: 0.3427\n",
            "val/train: 0.98\n",
            "11610/11610 [==============================] - 0s 32us/sample - loss: 0.3467 - val_loss: 0.3384\n"
          ],
          "name": "stdout"
        }
      ]
    },
    {
      "cell_type": "markdown",
      "metadata": {
        "id": "NhpbYuq7U_Vi",
        "colab_type": "text"
      },
      "source": [
        "# TensorBoard"
      ]
    },
    {
      "cell_type": "code",
      "metadata": {
        "id": "Ft8cQwSmU_Vi",
        "colab_type": "code",
        "colab": {}
      },
      "source": [
        "root_logdir = os.path.join(os.curdir, \"my_logs\")"
      ],
      "execution_count": 0,
      "outputs": []
    },
    {
      "cell_type": "code",
      "metadata": {
        "id": "XlZCiKDNU_Vk",
        "colab_type": "code",
        "colab": {},
        "outputId": "a13278fc-6fc4-4a63-ba3f-c6aad178778a"
      },
      "source": [
        "def get_run_logdir():\n",
        "    import time\n",
        "    run_id = time.strftime(\"run_%Y_%m_%d-%H_%M_%S\")\n",
        "    return os.path.join(root_logdir, run_id)\n",
        "\n",
        "run_logdir = get_run_logdir()\n",
        "run_logdir"
      ],
      "execution_count": 0,
      "outputs": [
        {
          "output_type": "execute_result",
          "data": {
            "text/plain": [
              "'./my_logs/run_2019_06_08-11_37_24'"
            ]
          },
          "metadata": {
            "tags": []
          },
          "execution_count": 83
        }
      ]
    },
    {
      "cell_type": "code",
      "metadata": {
        "id": "rEAB8jQTU_Vl",
        "colab_type": "code",
        "colab": {}
      },
      "source": [
        "keras.backend.clear_session()\n",
        "np.random.seed(42)\n",
        "tf.random.set_seed(42)"
      ],
      "execution_count": 0,
      "outputs": []
    },
    {
      "cell_type": "code",
      "metadata": {
        "id": "7bVBKNZdU_Vn",
        "colab_type": "code",
        "colab": {}
      },
      "source": [
        "model = keras.models.Sequential([\n",
        "    keras.layers.Dense(30, activation=\"relu\", input_shape=[8]),\n",
        "    keras.layers.Dense(30, activation=\"relu\"),\n",
        "    keras.layers.Dense(1)\n",
        "])    \n",
        "model.compile(loss=\"mse\", optimizer=keras.optimizers.SGD(lr=1e-3))"
      ],
      "execution_count": 0,
      "outputs": []
    },
    {
      "cell_type": "code",
      "metadata": {
        "id": "uFd2TZ_jU_Vo",
        "colab_type": "code",
        "colab": {},
        "outputId": "5950f67d-6c6e-4c42-e75c-02854aa749b9"
      },
      "source": [
        "tensorboard_cb = keras.callbacks.TensorBoard(run_logdir)\n",
        "history = model.fit(X_train, y_train, epochs=30,\n",
        "                    validation_data=(X_valid, y_valid),\n",
        "                    callbacks=[checkpoint_cb, tensorboard_cb])"
      ],
      "execution_count": 0,
      "outputs": [
        {
          "output_type": "stream",
          "text": [
            "Train on 11610 samples, validate on 3870 samples\n",
            "Epoch 1/30\n",
            "11610/11610 [==============================] - 1s 45us/sample - loss: 1.8807 - val_loss: 0.7701\n",
            "Epoch 2/30\n",
            "11610/11610 [==============================] - 0s 33us/sample - loss: 0.6570 - val_loss: 0.7268\n",
            "Epoch 3/30\n",
            "11610/11610 [==============================] - 0s 33us/sample - loss: 0.5932 - val_loss: 0.6569\n",
            "Epoch 4/30\n",
            "11610/11610 [==============================] - 0s 32us/sample - loss: 0.5547 - val_loss: 0.5244\n",
            "Epoch 5/30\n",
            "11610/11610 [==============================] - 0s 33us/sample - loss: 0.5269 - val_loss: 0.5068\n",
            "Epoch 6/30\n",
            "11610/11610 [==============================] - 0s 32us/sample - loss: 0.5035 - val_loss: 0.5028\n",
            "Epoch 7/30\n",
            "11610/11610 [==============================] - 0s 33us/sample - loss: 0.4852 - val_loss: 0.4924\n",
            "Epoch 8/30\n",
            "11610/11610 [==============================] - 0s 32us/sample - loss: 0.4709 - val_loss: 0.4534\n",
            "Epoch 9/30\n",
            "11610/11610 [==============================] - 0s 32us/sample - loss: 0.4578 - val_loss: 0.4403\n",
            "Epoch 10/30\n",
            "11610/11610 [==============================] - 0s 32us/sample - loss: 0.4473 - val_loss: 0.4496\n",
            "Epoch 11/30\n",
            "11610/11610 [==============================] - 0s 32us/sample - loss: 0.4399 - val_loss: 0.4261\n",
            "Epoch 12/30\n",
            "11610/11610 [==============================] - 0s 37us/sample - loss: 0.4320 - val_loss: 0.4039\n",
            "Epoch 13/30\n",
            "11610/11610 [==============================] - 0s 34us/sample - loss: 0.4258 - val_loss: 0.4002\n",
            "Epoch 14/30\n",
            "11610/11610 [==============================] - 0s 32us/sample - loss: 0.4207 - val_loss: 0.3980\n",
            "Epoch 15/30\n",
            "11610/11610 [==============================] - 0s 35us/sample - loss: 0.4158 - val_loss: 0.3915\n",
            "Epoch 16/30\n",
            "11610/11610 [==============================] - 0s 32us/sample - loss: 0.4118 - val_loss: 0.3851\n",
            "Epoch 17/30\n",
            "11610/11610 [==============================] - 0s 33us/sample - loss: 0.4077 - val_loss: 0.3845\n",
            "Epoch 18/30\n",
            "11610/11610 [==============================] - 0s 32us/sample - loss: 0.4042 - val_loss: 0.3784\n",
            "Epoch 19/30\n",
            "11610/11610 [==============================] - 0s 33us/sample - loss: 0.4008 - val_loss: 0.3749\n",
            "Epoch 20/30\n",
            "11610/11610 [==============================] - 0s 34us/sample - loss: 0.3979 - val_loss: 0.3728\n",
            "Epoch 21/30\n",
            "11610/11610 [==============================] - 0s 32us/sample - loss: 0.3952 - val_loss: 0.3700\n",
            "Epoch 22/30\n",
            "11610/11610 [==============================] - 0s 32us/sample - loss: 0.3924 - val_loss: 0.3739\n",
            "Epoch 23/30\n",
            "11610/11610 [==============================] - 0s 33us/sample - loss: 0.3899 - val_loss: 0.3665\n",
            "Epoch 24/30\n",
            "11610/11610 [==============================] - 0s 32us/sample - loss: 0.3874 - val_loss: 0.3659\n",
            "Epoch 25/30\n",
            "11610/11610 [==============================] - 0s 32us/sample - loss: 0.3850 - val_loss: 0.3605\n",
            "Epoch 26/30\n",
            "11610/11610 [==============================] - 0s 32us/sample - loss: 0.3828 - val_loss: 0.3594\n",
            "Epoch 27/30\n",
            "11610/11610 [==============================] - 0s 32us/sample - loss: 0.3809 - val_loss: 0.3562\n",
            "Epoch 28/30\n",
            "11610/11610 [==============================] - 0s 32us/sample - loss: 0.3786 - val_loss: 0.3586\n",
            "Epoch 29/30\n",
            "11610/11610 [==============================] - 0s 32us/sample - loss: 0.3765 - val_loss: 0.3689\n",
            "Epoch 30/30\n",
            "11610/11610 [==============================] - 0s 32us/sample - loss: 0.3749 - val_loss: 0.3510\n"
          ],
          "name": "stdout"
        }
      ]
    },
    {
      "cell_type": "markdown",
      "metadata": {
        "id": "-2dDUftSU_Vp",
        "colab_type": "text"
      },
      "source": [
        "To start the TensorBoard server, one option is to open a terminal, if needed activate the virtualenv where you installed TensorBoard, go to this notebook's directory, then type:\n",
        "\n",
        "```bash\n",
        "$ tensorboard --logdir=./my_logs --port=6006\n",
        "```\n",
        "\n",
        "You can then open your web browser to [localhost:6006](http://localhost:6006) and use TensorBoard. Once you are done, press Ctrl-C in the terminal window, this will shutdown the TensorBoard server.\n",
        "\n",
        "Alternatively, you can load TensorBoard's Jupyter extension and run it like this:"
      ]
    },
    {
      "cell_type": "code",
      "metadata": {
        "id": "Gr6l_BzZU_Vp",
        "colab_type": "code",
        "colab": {},
        "outputId": "c8a9322d-5086-45b0-fbf7-30e1d2a5e7c3"
      },
      "source": [
        "%load_ext tensorboard\n",
        "%tensorboard --logdir=./my_logs --port=6006"
      ],
      "execution_count": 0,
      "outputs": [
        {
          "output_type": "display_data",
          "data": {
            "text/html": [
              "\n",
              "        <iframe\n",
              "            width=\"100%\"\n",
              "            height=\"800\"\n",
              "            src=\"http://localhost:6006\"\n",
              "            frameborder=\"0\"\n",
              "            allowfullscreen\n",
              "        ></iframe>\n",
              "        "
            ],
            "text/plain": [
              "<IPython.lib.display.IFrame at 0x12e9a1a20>"
            ]
          },
          "metadata": {
            "tags": []
          }
        }
      ]
    },
    {
      "cell_type": "code",
      "metadata": {
        "id": "wGAGAhb_U_Vs",
        "colab_type": "code",
        "colab": {},
        "outputId": "b8783c7c-2ff8-44f4-840b-81d18edbac9b"
      },
      "source": [
        "run_logdir2 = get_run_logdir()\n",
        "run_logdir2"
      ],
      "execution_count": 0,
      "outputs": [
        {
          "output_type": "execute_result",
          "data": {
            "text/plain": [
              "'./my_logs/run_2019_06_08-11_38_07'"
            ]
          },
          "metadata": {
            "tags": []
          },
          "execution_count": 88
        }
      ]
    },
    {
      "cell_type": "code",
      "metadata": {
        "id": "cPqFI4_xU_Vt",
        "colab_type": "code",
        "colab": {}
      },
      "source": [
        "keras.backend.clear_session()\n",
        "np.random.seed(42)\n",
        "tf.random.set_seed(42)"
      ],
      "execution_count": 0,
      "outputs": []
    },
    {
      "cell_type": "code",
      "metadata": {
        "id": "epWemYzTU_Vu",
        "colab_type": "code",
        "colab": {}
      },
      "source": [
        "model = keras.models.Sequential([\n",
        "    keras.layers.Dense(30, activation=\"relu\", input_shape=[8]),\n",
        "    keras.layers.Dense(30, activation=\"relu\"),\n",
        "    keras.layers.Dense(1)\n",
        "])    \n",
        "model.compile(loss=\"mse\", optimizer=keras.optimizers.SGD(lr=0.05))"
      ],
      "execution_count": 0,
      "outputs": []
    },
    {
      "cell_type": "code",
      "metadata": {
        "id": "KzUY-j0SU_Vv",
        "colab_type": "code",
        "colab": {},
        "outputId": "66b7b5e2-8915-425c-8ce0-0dae0c3b9af8"
      },
      "source": [
        "tensorboard_cb = keras.callbacks.TensorBoard(run_logdir2)\n",
        "history = model.fit(X_train, y_train, epochs=30,\n",
        "                    validation_data=(X_valid, y_valid),\n",
        "                    callbacks=[checkpoint_cb, tensorboard_cb])"
      ],
      "execution_count": 0,
      "outputs": [
        {
          "output_type": "stream",
          "text": [
            "Train on 11610 samples, validate on 3870 samples\n",
            "Epoch 1/30\n",
            "11610/11610 [==============================] - 1s 43us/sample - loss: 0.5259 - val_loss: 0.4834\n",
            "Epoch 2/30\n",
            "11610/11610 [==============================] - 0s 33us/sample - loss: 0.4069 - val_loss: 0.3912\n",
            "Epoch 3/30\n",
            "11610/11610 [==============================] - 0s 33us/sample - loss: 0.3744 - val_loss: 7.5517\n",
            "Epoch 4/30\n",
            "11610/11610 [==============================] - 0s 32us/sample - loss: 0.3656 - val_loss: 1.1554\n",
            "Epoch 5/30\n",
            "11610/11610 [==============================] - 0s 38us/sample - loss: 0.3524 - val_loss: 0.4531\n",
            "Epoch 6/30\n",
            "11610/11610 [==============================] - 0s 34us/sample - loss: 0.3455 - val_loss: 0.3197\n",
            "Epoch 7/30\n",
            "11610/11610 [==============================] - 0s 33us/sample - loss: 0.3355 - val_loss: 0.3217\n",
            "Epoch 8/30\n",
            "11610/11610 [==============================] - 0s 33us/sample - loss: 0.3326 - val_loss: 0.3118\n",
            "Epoch 9/30\n",
            "11610/11610 [==============================] - 0s 34us/sample - loss: 0.3219 - val_loss: 0.3636\n",
            "Epoch 10/30\n",
            "11610/11610 [==============================] - 0s 35us/sample - loss: 0.3210 - val_loss: 0.3265\n",
            "Epoch 11/30\n",
            "11610/11610 [==============================] - 0s 32us/sample - loss: 0.3148 - val_loss: 0.3178\n",
            "Epoch 12/30\n",
            "11610/11610 [==============================] - 0s 35us/sample - loss: 0.3121 - val_loss: 0.3077\n",
            "Epoch 13/30\n",
            "11610/11610 [==============================] - 0s 35us/sample - loss: 0.3098 - val_loss: 0.3166\n",
            "Epoch 14/30\n",
            "11610/11610 [==============================] - 0s 36us/sample - loss: 0.3054 - val_loss: 0.3673\n",
            "Epoch 15/30\n",
            "11610/11610 [==============================] - 0s 37us/sample - loss: 0.3110 - val_loss: 0.5225\n",
            "Epoch 16/30\n",
            "11610/11610 [==============================] - 0s 32us/sample - loss: 0.3086 - val_loss: 0.2886\n",
            "Epoch 17/30\n",
            "11610/11610 [==============================] - 0s 33us/sample - loss: 0.3044 - val_loss: 0.3345\n",
            "Epoch 18/30\n",
            "11610/11610 [==============================] - 0s 31us/sample - loss: 0.3019 - val_loss: 0.2997\n",
            "Epoch 19/30\n",
            "11610/11610 [==============================] - 0s 32us/sample - loss: 0.2979 - val_loss: 0.2767\n",
            "Epoch 20/30\n",
            "11610/11610 [==============================] - 0s 32us/sample - loss: 0.2977 - val_loss: 0.3261\n",
            "Epoch 21/30\n",
            "11610/11610 [==============================] - 0s 31us/sample - loss: 0.2967 - val_loss: 0.2839\n",
            "Epoch 22/30\n",
            "11610/11610 [==============================] - 0s 32us/sample - loss: 0.2948 - val_loss: 0.2765\n",
            "Epoch 23/30\n",
            "11610/11610 [==============================] - 0s 31us/sample - loss: 0.2918 - val_loss: 0.3468\n",
            "Epoch 24/30\n",
            "11610/11610 [==============================] - 0s 31us/sample - loss: 0.2928 - val_loss: 0.2745\n",
            "Epoch 25/30\n",
            "11610/11610 [==============================] - 0s 32us/sample - loss: 0.2894 - val_loss: 0.3026\n",
            "Epoch 26/30\n",
            "11610/11610 [==============================] - 0s 32us/sample - loss: 0.2905 - val_loss: 0.2874\n",
            "Epoch 27/30\n",
            "11610/11610 [==============================] - 0s 32us/sample - loss: 0.2860 - val_loss: 0.2851\n",
            "Epoch 28/30\n",
            "11610/11610 [==============================] - 0s 34us/sample - loss: 0.2877 - val_loss: 0.5629\n",
            "Epoch 29/30\n",
            "11610/11610 [==============================] - 0s 33us/sample - loss: 0.2861 - val_loss: 0.2808\n",
            "Epoch 30/30\n",
            "11610/11610 [==============================] - 0s 34us/sample - loss: 0.2841 - val_loss: 0.2780\n"
          ],
          "name": "stdout"
        }
      ]
    },
    {
      "cell_type": "markdown",
      "metadata": {
        "id": "QcEeMDUOU_Vw",
        "colab_type": "text"
      },
      "source": [
        "Notice how TensorBoard now sees two runs, and you can compare the learning curves."
      ]
    },
    {
      "cell_type": "markdown",
      "metadata": {
        "id": "9iTAcyZ8U_Vw",
        "colab_type": "text"
      },
      "source": [
        "Check out the other available logging options:"
      ]
    },
    {
      "cell_type": "code",
      "metadata": {
        "id": "mJUTbJSkU_Vx",
        "colab_type": "code",
        "colab": {},
        "outputId": "43c966cb-670f-4c20-c7fd-fc93f5486742"
      },
      "source": [
        "help(keras.callbacks.TensorBoard.__init__)"
      ],
      "execution_count": 0,
      "outputs": [
        {
          "output_type": "stream",
          "text": [
            "Help on function __init__ in module tensorflow.python.keras.callbacks:\n",
            "\n",
            "__init__(self, log_dir='logs', histogram_freq=0, write_graph=True, write_images=False, update_freq='epoch', profile_batch=2, embeddings_freq=0, embeddings_metadata=None, **kwargs)\n",
            "    Initialize self.  See help(type(self)) for accurate signature.\n",
            "\n"
          ],
          "name": "stdout"
        }
      ]
    },
    {
      "cell_type": "markdown",
      "metadata": {
        "id": "eqJVp5niU_Vx",
        "colab_type": "text"
      },
      "source": [
        "# Hyperparameter Tuning"
      ]
    },
    {
      "cell_type": "code",
      "metadata": {
        "id": "G2Qme-v9U_Vy",
        "colab_type": "code",
        "colab": {}
      },
      "source": [
        "keras.backend.clear_session()\n",
        "np.random.seed(42)\n",
        "tf.random.set_seed(42)"
      ],
      "execution_count": 0,
      "outputs": []
    },
    {
      "cell_type": "code",
      "metadata": {
        "id": "JQz5VRx8U_Vy",
        "colab_type": "code",
        "colab": {}
      },
      "source": [
        "def build_model(n_hidden=1, n_neurons=30, learning_rate=3e-3, input_shape=[8]):\n",
        "    model = keras.models.Sequential()\n",
        "    model.add(keras.layers.InputLayer(input_shape=input_shape))\n",
        "    for layer in range(n_hidden):\n",
        "        model.add(keras.layers.Dense(n_neurons, activation=\"relu\"))\n",
        "    model.add(keras.layers.Dense(1))\n",
        "    optimizer = keras.optimizers.SGD(lr=learning_rate)\n",
        "    model.compile(loss=\"mse\", optimizer=optimizer)\n",
        "    return model"
      ],
      "execution_count": 0,
      "outputs": []
    },
    {
      "cell_type": "code",
      "metadata": {
        "id": "rb8LxUviU_V0",
        "colab_type": "code",
        "colab": {}
      },
      "source": [
        "keras_reg = keras.wrappers.scikit_learn.KerasRegressor(build_model)"
      ],
      "execution_count": 0,
      "outputs": []
    },
    {
      "cell_type": "code",
      "metadata": {
        "id": "aIJrpqZKU_V0",
        "colab_type": "code",
        "colab": {},
        "outputId": "23231f98-a57f-411a-fbc8-a0cfd60a0fbb"
      },
      "source": [
        "keras_reg.fit(X_train, y_train, epochs=100,\n",
        "              validation_data=(X_valid, y_valid),\n",
        "              callbacks=[keras.callbacks.EarlyStopping(patience=10)])"
      ],
      "execution_count": 0,
      "outputs": [
        {
          "output_type": "stream",
          "text": [
            "Train on 11610 samples, validate on 3870 samples\n",
            "Epoch 1/100\n",
            "11610/11610 [==============================] - 0s 41us/sample - loss: 1.0910 - val_loss: 21.1892\n",
            "Epoch 2/100\n",
            "11610/11610 [==============================] - 0s 35us/sample - loss: 0.7607 - val_loss: 4.8909\n",
            "Epoch 3/100\n",
            "11610/11610 [==============================] - 0s 31us/sample - loss: 0.5401 - val_loss: 0.5721\n",
            "Epoch 4/100\n",
            "11610/11610 [==============================] - 0s 31us/sample - loss: 0.4752 - val_loss: 0.4433\n",
            "Epoch 5/100\n",
            "11610/11610 [==============================] - 0s 34us/sample - loss: 0.4499 - val_loss: 0.4270\n",
            "Epoch 6/100\n",
            "11610/11610 [==============================] - 0s 31us/sample - loss: 0.4348 - val_loss: 0.4165\n",
            "Epoch 7/100\n",
            "11610/11610 [==============================] - 0s 36us/sample - loss: 0.4240 - val_loss: 0.4060\n",
            "Epoch 8/100\n",
            "11610/11610 [==============================] - 0s 33us/sample - loss: 0.4166 - val_loss: 0.4030\n",
            "Epoch 9/100\n",
            "11610/11610 [==============================] - 0s 34us/sample - loss: 0.4109 - val_loss: 0.4069\n",
            "Epoch 10/100\n",
            "11610/11610 [==============================] - 0s 34us/sample - loss: 0.4055 - val_loss: 0.4220\n",
            "Epoch 11/100\n",
            "11610/11610 [==============================] - 0s 30us/sample - loss: 0.4021 - val_loss: 0.4191\n",
            "Epoch 12/100\n",
            "11610/11610 [==============================] - 0s 33us/sample - loss: 0.3982 - val_loss: 0.3941\n",
            "Epoch 13/100\n",
            "11610/11610 [==============================] - 0s 32us/sample - loss: 0.3950 - val_loss: 0.4145\n",
            "Epoch 14/100\n",
            "11610/11610 [==============================] - 0s 34us/sample - loss: 0.3923 - val_loss: 0.4155\n",
            "Epoch 15/100\n",
            "11610/11610 [==============================] - 0s 30us/sample - loss: 0.3897 - val_loss: 0.3774\n",
            "Epoch 16/100\n",
            "11610/11610 [==============================] - 0s 33us/sample - loss: 0.3873 - val_loss: 0.3828\n",
            "Epoch 17/100\n",
            "11610/11610 [==============================] - 0s 35us/sample - loss: 0.3847 - val_loss: 0.4104\n",
            "<<49 more lines>>\n",
            "11610/11610 [==============================] - 0s 29us/sample - loss: 0.3553 - val_loss: 0.3677\n",
            "Epoch 43/100\n",
            "11610/11610 [==============================] - 0s 29us/sample - loss: 0.3553 - val_loss: 0.3358\n",
            "Epoch 44/100\n",
            "11610/11610 [==============================] - 0s 30us/sample - loss: 0.3544 - val_loss: 0.3434\n",
            "Epoch 45/100\n",
            "11610/11610 [==============================] - 0s 29us/sample - loss: 0.3539 - val_loss: 0.4161\n",
            "Epoch 46/100\n",
            "11610/11610 [==============================] - 0s 29us/sample - loss: 0.3540 - val_loss: 0.3337\n",
            "Epoch 47/100\n",
            "11610/11610 [==============================] - 0s 30us/sample - loss: 0.3526 - val_loss: 0.3837\n",
            "Epoch 48/100\n",
            "11610/11610 [==============================] - 1s 44us/sample - loss: 0.3526 - val_loss: 0.3353\n",
            "Epoch 49/100\n",
            "11610/11610 [==============================] - 0s 29us/sample - loss: 0.3519 - val_loss: 0.3319\n",
            "Epoch 50/100\n",
            "11610/11610 [==============================] - 0s 29us/sample - loss: 0.3510 - val_loss: 0.3782\n",
            "Epoch 51/100\n",
            "11610/11610 [==============================] - 0s 29us/sample - loss: 0.3512 - val_loss: 0.3412\n",
            "Epoch 52/100\n",
            "11610/11610 [==============================] - 0s 29us/sample - loss: 0.3502 - val_loss: 0.4134\n",
            "Epoch 53/100\n",
            "11610/11610 [==============================] - 0s 30us/sample - loss: 0.3501 - val_loss: 0.3335\n",
            "Epoch 54/100\n",
            "11610/11610 [==============================] - 0s 30us/sample - loss: 0.3490 - val_loss: 0.3411\n",
            "Epoch 55/100\n",
            "11610/11610 [==============================] - 0s 29us/sample - loss: 0.3485 - val_loss: 0.3700\n",
            "Epoch 56/100\n",
            "11610/11610 [==============================] - 0s 29us/sample - loss: 0.3483 - val_loss: 0.3793\n",
            "Epoch 57/100\n",
            "11610/11610 [==============================] - 0s 29us/sample - loss: 0.3479 - val_loss: 0.4734\n",
            "Epoch 58/100\n",
            "11610/11610 [==============================] - 0s 30us/sample - loss: 0.3480 - val_loss: 0.4231\n",
            "Epoch 59/100\n",
            "11610/11610 [==============================] - 0s 29us/sample - loss: 0.3470 - val_loss: 0.6592\n"
          ],
          "name": "stdout"
        },
        {
          "output_type": "execute_result",
          "data": {
            "text/plain": [
              "<tensorflow.python.keras.callbacks.History at 0x1344c9780>"
            ]
          },
          "metadata": {
            "tags": []
          },
          "execution_count": 96
        }
      ]
    },
    {
      "cell_type": "code",
      "metadata": {
        "id": "kJwRH7sWU_V3",
        "colab_type": "code",
        "colab": {},
        "outputId": "cfc34d9f-c65f-4e1f-8296-831e5fdffdae"
      },
      "source": [
        "mse_test = keras_reg.score(X_test, y_test)"
      ],
      "execution_count": 0,
      "outputs": [
        {
          "output_type": "stream",
          "text": [
            "5160/5160 [==============================] - 0s 15us/sample - loss: 0.3504\n"
          ],
          "name": "stdout"
        }
      ]
    },
    {
      "cell_type": "code",
      "metadata": {
        "id": "GR5927gGU_V4",
        "colab_type": "code",
        "colab": {}
      },
      "source": [
        "y_pred = keras_reg.predict(X_new)"
      ],
      "execution_count": 0,
      "outputs": []
    },
    {
      "cell_type": "code",
      "metadata": {
        "id": "aVF6Jq6ZU_V4",
        "colab_type": "code",
        "colab": {}
      },
      "source": [
        "np.random.seed(42)\n",
        "tf.random.set_seed(42)"
      ],
      "execution_count": 0,
      "outputs": []
    },
    {
      "cell_type": "code",
      "metadata": {
        "id": "JhSILpIOU_V5",
        "colab_type": "code",
        "colab": {},
        "outputId": "f21eb3f9-3584-4abb-f9ae-fb1971129af2"
      },
      "source": [
        "from scipy.stats import reciprocal\n",
        "from sklearn.model_selection import RandomizedSearchCV\n",
        "\n",
        "param_distribs = {\n",
        "    \"n_hidden\": [0, 1, 2, 3],\n",
        "    \"n_neurons\": np.arange(1, 100),\n",
        "    \"learning_rate\": reciprocal(3e-4, 3e-2),\n",
        "}\n",
        "\n",
        "rnd_search_cv = RandomizedSearchCV(keras_reg, param_distribs, n_iter=10, cv=3, verbose=2)\n",
        "rnd_search_cv.fit(X_train, y_train, epochs=100,\n",
        "                  validation_data=(X_valid, y_valid),\n",
        "                  callbacks=[keras.callbacks.EarlyStopping(patience=10)])"
      ],
      "execution_count": 0,
      "outputs": [
        {
          "output_type": "stream",
          "text": [
            "Fitting 3 folds for each of 10 candidates, totalling 30 fits\n",
            "[CV] learning_rate=0.001683454924600351, n_hidden=0, n_neurons=15 ....\n",
            "Train on 7740 samples, validate on 3870 samples\n",
            "Epoch 1/100\n"
          ],
          "name": "stdout"
        },
        {
          "output_type": "stream",
          "text": [
            "[Parallel(n_jobs=1)]: Using backend SequentialBackend with 1 concurrent workers.\n"
          ],
          "name": "stderr"
        },
        {
          "output_type": "stream",
          "text": [
            "7740/7740 [==============================] - 0s 43us/sample - loss: 3.5539 - val_loss: 1.8522\n",
            "Epoch 2/100\n",
            "7740/7740 [==============================] - 0s 32us/sample - loss: 1.3322 - val_loss: 1.0094\n",
            "Epoch 3/100\n",
            "7740/7740 [==============================] - 0s 36us/sample - loss: 0.8593 - val_loss: 0.7356\n",
            "Epoch 4/100\n",
            "7740/7740 [==============================] - 0s 37us/sample - loss: 0.7338 - val_loss: 0.6880\n",
            "Epoch 5/100\n",
            "7740/7740 [==============================] - 0s 36us/sample - loss: 0.6915 - val_loss: 0.8475\n",
            "Epoch 6/100\n",
            "7740/7740 [==============================] - 0s 38us/sample - loss: 0.6710 - val_loss: 0.6480\n",
            "Epoch 7/100\n",
            "7740/7740 [==============================] - 0s 41us/sample - loss: 0.6507 - val_loss: 0.8315\n",
            "Epoch 8/100\n",
            "7740/7740 [==============================] - 0s 36us/sample - loss: 0.6384 - val_loss: 0.8030\n",
            "Epoch 9/100\n",
            "7740/7740 [==============================] - 0s 32us/sample - loss: 0.6268 - val_loss: 0.6048\n",
            "Epoch 10/100\n",
            "7740/7740 [==============================] - 0s 34us/sample - loss: 0.6152 - val_loss: 0.6129\n",
            "Epoch 11/100\n",
            "7740/7740 [==============================] - 0s 32us/sample - loss: 0.6038 - val_loss: 0.8304\n",
            "Epoch 12/100\n",
            "7740/7740 [==============================] - 0s 38us/sample - loss: 0.5992 - val_loss: 0.5584\n",
            "Epoch 13/100\n",
            "7740/7740 [==============================] - 0s 36us/sample - loss: 0.5896 - val_loss: 0.6129\n",
            "Epoch 14/100\n",
            "7740/7740 [==============================] - 0s 33us/sample - loss: 0.5826 - val_loss: 0.6516\n",
            "Epoch 15/100\n",
            "7740/7740 [==============================] - 0s 35us/sample - loss: 0.5775 - val_loss: 0.5914\n",
            "Epoch 16/100\n",
            "<<2526 more lines>>\n",
            "11610/11610 [==============================] - 0s 30us/sample - loss: 0.3198 - val_loss: 0.3301\n",
            "Epoch 41/100\n",
            "11610/11610 [==============================] - 0s 30us/sample - loss: 0.3174 - val_loss: 0.3968\n",
            "Epoch 42/100\n",
            "11610/11610 [==============================] - 0s 30us/sample - loss: 0.3183 - val_loss: 0.3138\n",
            "Epoch 43/100\n",
            "11610/11610 [==============================] - 0s 30us/sample - loss: 0.3170 - val_loss: 0.3072\n",
            "Epoch 44/100\n",
            "11610/11610 [==============================] - 0s 30us/sample - loss: 0.3149 - val_loss: 0.4054\n",
            "Epoch 45/100\n",
            "11610/11610 [==============================] - 0s 30us/sample - loss: 0.3155 - val_loss: 0.3363\n",
            "Epoch 46/100\n",
            "11610/11610 [==============================] - 0s 30us/sample - loss: 0.3160 - val_loss: 0.3647\n",
            "Epoch 47/100\n",
            "11610/11610 [==============================] - 0s 30us/sample - loss: 0.3133 - val_loss: 0.3037\n",
            "Epoch 48/100\n",
            "11610/11610 [==============================] - 0s 30us/sample - loss: 0.3127 - val_loss: 0.3388\n",
            "Epoch 49/100\n",
            "11610/11610 [==============================] - 0s 30us/sample - loss: 0.3111 - val_loss: 0.3484\n",
            "Epoch 50/100\n",
            "11610/11610 [==============================] - 0s 30us/sample - loss: 0.3108 - val_loss: 0.3157\n",
            "Epoch 51/100\n",
            "11610/11610 [==============================] - 0s 31us/sample - loss: 0.3090 - val_loss: 0.3249\n",
            "Epoch 52/100\n",
            "11610/11610 [==============================] - 0s 30us/sample - loss: 0.3098 - val_loss: 0.3220\n",
            "Epoch 53/100\n",
            "11610/11610 [==============================] - 0s 30us/sample - loss: 0.3085 - val_loss: 0.3526\n",
            "Epoch 54/100\n",
            "11610/11610 [==============================] - 0s 30us/sample - loss: 0.3081 - val_loss: 0.3781\n",
            "Epoch 55/100\n",
            "11610/11610 [==============================] - 0s 30us/sample - loss: 0.3078 - val_loss: 0.4874\n",
            "Epoch 56/100\n",
            "11610/11610 [==============================] - 0s 30us/sample - loss: 0.3074 - val_loss: 0.3224\n",
            "Epoch 57/100\n",
            "11610/11610 [==============================] - 0s 30us/sample - loss: 0.3067 - val_loss: 0.3171\n"
          ],
          "name": "stdout"
        },
        {
          "output_type": "execute_result",
          "data": {
            "text/plain": [
              "RandomizedSearchCV(cv=3, error_score='raise-deprecating',\n",
              "          estimator=<tensorflow.python.keras.wrappers.scikit_learn.KerasRegressor object at 0x12e9e6588>,\n",
              "          fit_params=None, iid='warn', n_iter=10, n_jobs=None,\n",
              "          param_distributions={'n_hidden': [0, 1, 2, 3], 'n_neurons': array([ 1,  2, ..., 98, 99]), 'learning_rate': <scipy.stats._distn_infrastructure.rv_frozen object at 0x12e9a1048>},\n",
              "          pre_dispatch='2*n_jobs', random_state=None, refit=True,\n",
              "          return_train_score='warn', scoring=None, verbose=2)"
            ]
          },
          "metadata": {
            "tags": []
          },
          "execution_count": 100
        }
      ]
    },
    {
      "cell_type": "code",
      "metadata": {
        "id": "lGgAlq-eU_V6",
        "colab_type": "code",
        "colab": {},
        "outputId": "862c0dd7-9e03-4136-f569-94ddca94b9f4"
      },
      "source": [
        "rnd_search_cv.best_params_"
      ],
      "execution_count": 0,
      "outputs": [
        {
          "output_type": "execute_result",
          "data": {
            "text/plain": [
              "{'learning_rate': 0.0033625641252688094, 'n_hidden': 2, 'n_neurons': 42}"
            ]
          },
          "metadata": {
            "tags": []
          },
          "execution_count": 101
        }
      ]
    },
    {
      "cell_type": "code",
      "metadata": {
        "id": "07fE086pU_V7",
        "colab_type": "code",
        "colab": {},
        "outputId": "19d23da9-16b0-4313-ff6c-5af6bf6d38b3"
      },
      "source": [
        "rnd_search_cv.best_score_"
      ],
      "execution_count": 0,
      "outputs": [
        {
          "output_type": "execute_result",
          "data": {
            "text/plain": [
              "-0.3500674913429577"
            ]
          },
          "metadata": {
            "tags": []
          },
          "execution_count": 102
        }
      ]
    },
    {
      "cell_type": "code",
      "metadata": {
        "id": "lPdw59s_U_V8",
        "colab_type": "code",
        "colab": {},
        "outputId": "f7c19f1c-ba24-430d-8d81-608cd389b86b"
      },
      "source": [
        "rnd_search_cv.best_estimator_"
      ],
      "execution_count": 0,
      "outputs": [
        {
          "output_type": "execute_result",
          "data": {
            "text/plain": [
              "<tensorflow.python.keras.wrappers.scikit_learn.KerasRegressor at 0x134254278>"
            ]
          },
          "metadata": {
            "tags": []
          },
          "execution_count": 103
        }
      ]
    },
    {
      "cell_type": "code",
      "metadata": {
        "id": "7iVoQkZuU_V8",
        "colab_type": "code",
        "colab": {},
        "outputId": "d95e4bb4-c123-48a8-a428-41bd10bf0087"
      },
      "source": [
        "rnd_search_cv.score(X_test, y_test)"
      ],
      "execution_count": 0,
      "outputs": [
        {
          "output_type": "stream",
          "text": [
            "5160/5160 [==============================] - 0s 17us/sample - loss: 0.3159\n"
          ],
          "name": "stdout"
        },
        {
          "output_type": "execute_result",
          "data": {
            "text/plain": [
              "-0.31594527869723565"
            ]
          },
          "metadata": {
            "tags": []
          },
          "execution_count": 104
        }
      ]
    },
    {
      "cell_type": "code",
      "metadata": {
        "id": "OYK4_OOSU_V-",
        "colab_type": "code",
        "colab": {},
        "outputId": "a6d13eb0-8ff7-4e03-8b6b-efc58a183169"
      },
      "source": [
        "model = rnd_search_cv.best_estimator_.model\n",
        "model"
      ],
      "execution_count": 0,
      "outputs": [
        {
          "output_type": "execute_result",
          "data": {
            "text/plain": [
              "<tensorflow.python.keras.engine.sequential.Sequential at 0x138a9af60>"
            ]
          },
          "metadata": {
            "tags": []
          },
          "execution_count": 105
        }
      ]
    },
    {
      "cell_type": "code",
      "metadata": {
        "id": "-GXS-hbcU_V_",
        "colab_type": "code",
        "colab": {},
        "outputId": "279953d6-c853-48ae-a51f-44ab7b924000"
      },
      "source": [
        "model.evaluate(X_test, y_test)"
      ],
      "execution_count": 0,
      "outputs": [
        {
          "output_type": "stream",
          "text": [
            "5160/5160==============================] - 0s 22us/sample - loss: 0.3252\n"
          ],
          "name": "stdout"
        },
        {
          "output_type": "execute_result",
          "data": {
            "text/plain": [
              "0.3251738954422086"
            ]
          },
          "metadata": {
            "tags": []
          },
          "execution_count": 106
        }
      ]
    },
    {
      "cell_type": "markdown",
      "metadata": {
        "collapsed": true,
        "id": "PWK9xKX4U_WA",
        "colab_type": "text"
      },
      "source": [
        "# Exercise solutions"
      ]
    },
    {
      "cell_type": "markdown",
      "metadata": {
        "id": "yS3JcZ3uU_WB",
        "colab_type": "text"
      },
      "source": [
        "## 1. to 9."
      ]
    },
    {
      "cell_type": "markdown",
      "metadata": {
        "collapsed": true,
        "id": "WcPCh09sU_WB",
        "colab_type": "text"
      },
      "source": [
        "See appendix A."
      ]
    },
    {
      "cell_type": "markdown",
      "metadata": {
        "id": "9v9e7WldU_WC",
        "colab_type": "text"
      },
      "source": [
        "## 10."
      ]
    },
    {
      "cell_type": "markdown",
      "metadata": {
        "id": "YU1-vpReU_WC",
        "colab_type": "text"
      },
      "source": [
        "TODO"
      ]
    },
    {
      "cell_type": "code",
      "metadata": {
        "id": "K6e_pBgtU_WC",
        "colab_type": "code",
        "colab": {}
      },
      "source": [
        ""
      ],
      "execution_count": 0,
      "outputs": []
    }
  ]
}